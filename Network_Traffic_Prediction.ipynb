{
  "cells": [
    {
      "cell_type": "markdown",
      "id": "58812122",
      "metadata": {
        "id": "58812122"
      },
      "source": [
        "# Network_Traffic_Prediction"
      ]
    },
    {
      "cell_type": "markdown",
      "source": [
        "Mounting google drive"
      ],
      "metadata": {
        "id": "miiKbxvagc89"
      },
      "id": "miiKbxvagc89"
    },
    {
      "cell_type": "code",
      "source": [
        "# from google.colab import drive\n",
        "# drive.mount('/content/drive')"
      ],
      "metadata": {
        "id": "HXTjzaL4MSJJ"
      },
      "id": "HXTjzaL4MSJJ",
      "execution_count": 77,
      "outputs": []
    },
    {
      "cell_type": "markdown",
      "source": [
        "Importing necessary libraries"
      ],
      "metadata": {
        "id": "GTXVydGTghEy"
      },
      "id": "GTXVydGTghEy"
    },
    {
      "cell_type": "code",
      "source": [
        "import pandas as pd\n",
        "import numpy as np\n",
        "import matplotlib.pyplot as plt\n",
        "import seaborn as sns\n",
        "\n",
        "from sklearn.model_selection import train_test_split\n",
        "from sklearn.preprocessing import StandardScaler, LabelEncoder\n",
        "from sklearn.ensemble import RandomForestRegressor\n",
        "from sklearn.metrics import mean_squared_error, mean_absolute_error, r2_score"
      ],
      "metadata": {
        "id": "1gJDh9Rzgje8"
      },
      "id": "1gJDh9Rzgje8",
      "execution_count": 78,
      "outputs": []
    },
    {
      "cell_type": "markdown",
      "id": "41d2fbed",
      "metadata": {
        "id": "41d2fbed"
      },
      "source": [
        "Data loading"
      ]
    },
    {
      "cell_type": "code",
      "execution_count": 79,
      "id": "3d095488",
      "metadata": {
        "colab": {
          "base_uri": "https://localhost:8080/",
          "height": 255
        },
        "id": "3d095488",
        "outputId": "f9646e60-b16a-4be7-a9ab-7cef28ec9b37"
      },
      "outputs": [
        {
          "output_type": "execute_result",
          "data": {
            "text/plain": [
              "          src_ip  src_port         dst_ip  dst_port proto service    duration  \\\n",
              "0   192.168.1.37      4444  192.168.1.193     49178   tcp       -  290.371539   \n",
              "1  192.168.1.193     49180   192.168.1.37      8080   tcp       -    0.000102   \n",
              "2  192.168.1.193     49180   192.168.1.37      8080   tcp       -    0.000148   \n",
              "3  192.168.1.193     49180   192.168.1.37      8080   tcp       -    0.000113   \n",
              "4  192.168.1.193     49180   192.168.1.37      8080   tcp       -    0.000130   \n",
              "\n",
              "   src_bytes  dst_bytes conn_state  ...  http_response_body_len  \\\n",
              "0     101568       2592        OTH  ...                       0   \n",
              "1          0          0        REJ  ...                       0   \n",
              "2          0          0        REJ  ...                       0   \n",
              "3          0          0        REJ  ...                       0   \n",
              "4          0          0        REJ  ...                       0   \n",
              "\n",
              "   http_status_code  http_user_agent  http_orig_mime_types  \\\n",
              "0                 0                -                     -   \n",
              "1                 0                -                     -   \n",
              "2                 0                -                     -   \n",
              "3                 0                -                     -   \n",
              "4                 0                -                     -   \n",
              "\n",
              "   http_resp_mime_types weird_name  weird_addl  weird_notice  label      type  \n",
              "0                     -          -           -             -      1  backdoor  \n",
              "1                     -          -           -             -      1  backdoor  \n",
              "2                     -          -           -             -      1  backdoor  \n",
              "3                     -          -           -             -      1  backdoor  \n",
              "4                     -          -           -             -      1  backdoor  \n",
              "\n",
              "[5 rows x 44 columns]"
            ],
            "text/html": [
              "\n",
              "  <div id=\"df-7119a155-7eb0-43f5-a206-b1f04c8edb9c\" class=\"colab-df-container\">\n",
              "    <div>\n",
              "<style scoped>\n",
              "    .dataframe tbody tr th:only-of-type {\n",
              "        vertical-align: middle;\n",
              "    }\n",
              "\n",
              "    .dataframe tbody tr th {\n",
              "        vertical-align: top;\n",
              "    }\n",
              "\n",
              "    .dataframe thead th {\n",
              "        text-align: right;\n",
              "    }\n",
              "</style>\n",
              "<table border=\"1\" class=\"dataframe\">\n",
              "  <thead>\n",
              "    <tr style=\"text-align: right;\">\n",
              "      <th></th>\n",
              "      <th>src_ip</th>\n",
              "      <th>src_port</th>\n",
              "      <th>dst_ip</th>\n",
              "      <th>dst_port</th>\n",
              "      <th>proto</th>\n",
              "      <th>service</th>\n",
              "      <th>duration</th>\n",
              "      <th>src_bytes</th>\n",
              "      <th>dst_bytes</th>\n",
              "      <th>conn_state</th>\n",
              "      <th>...</th>\n",
              "      <th>http_response_body_len</th>\n",
              "      <th>http_status_code</th>\n",
              "      <th>http_user_agent</th>\n",
              "      <th>http_orig_mime_types</th>\n",
              "      <th>http_resp_mime_types</th>\n",
              "      <th>weird_name</th>\n",
              "      <th>weird_addl</th>\n",
              "      <th>weird_notice</th>\n",
              "      <th>label</th>\n",
              "      <th>type</th>\n",
              "    </tr>\n",
              "  </thead>\n",
              "  <tbody>\n",
              "    <tr>\n",
              "      <th>0</th>\n",
              "      <td>192.168.1.37</td>\n",
              "      <td>4444</td>\n",
              "      <td>192.168.1.193</td>\n",
              "      <td>49178</td>\n",
              "      <td>tcp</td>\n",
              "      <td>-</td>\n",
              "      <td>290.371539</td>\n",
              "      <td>101568</td>\n",
              "      <td>2592</td>\n",
              "      <td>OTH</td>\n",
              "      <td>...</td>\n",
              "      <td>0</td>\n",
              "      <td>0</td>\n",
              "      <td>-</td>\n",
              "      <td>-</td>\n",
              "      <td>-</td>\n",
              "      <td>-</td>\n",
              "      <td>-</td>\n",
              "      <td>-</td>\n",
              "      <td>1</td>\n",
              "      <td>backdoor</td>\n",
              "    </tr>\n",
              "    <tr>\n",
              "      <th>1</th>\n",
              "      <td>192.168.1.193</td>\n",
              "      <td>49180</td>\n",
              "      <td>192.168.1.37</td>\n",
              "      <td>8080</td>\n",
              "      <td>tcp</td>\n",
              "      <td>-</td>\n",
              "      <td>0.000102</td>\n",
              "      <td>0</td>\n",
              "      <td>0</td>\n",
              "      <td>REJ</td>\n",
              "      <td>...</td>\n",
              "      <td>0</td>\n",
              "      <td>0</td>\n",
              "      <td>-</td>\n",
              "      <td>-</td>\n",
              "      <td>-</td>\n",
              "      <td>-</td>\n",
              "      <td>-</td>\n",
              "      <td>-</td>\n",
              "      <td>1</td>\n",
              "      <td>backdoor</td>\n",
              "    </tr>\n",
              "    <tr>\n",
              "      <th>2</th>\n",
              "      <td>192.168.1.193</td>\n",
              "      <td>49180</td>\n",
              "      <td>192.168.1.37</td>\n",
              "      <td>8080</td>\n",
              "      <td>tcp</td>\n",
              "      <td>-</td>\n",
              "      <td>0.000148</td>\n",
              "      <td>0</td>\n",
              "      <td>0</td>\n",
              "      <td>REJ</td>\n",
              "      <td>...</td>\n",
              "      <td>0</td>\n",
              "      <td>0</td>\n",
              "      <td>-</td>\n",
              "      <td>-</td>\n",
              "      <td>-</td>\n",
              "      <td>-</td>\n",
              "      <td>-</td>\n",
              "      <td>-</td>\n",
              "      <td>1</td>\n",
              "      <td>backdoor</td>\n",
              "    </tr>\n",
              "    <tr>\n",
              "      <th>3</th>\n",
              "      <td>192.168.1.193</td>\n",
              "      <td>49180</td>\n",
              "      <td>192.168.1.37</td>\n",
              "      <td>8080</td>\n",
              "      <td>tcp</td>\n",
              "      <td>-</td>\n",
              "      <td>0.000113</td>\n",
              "      <td>0</td>\n",
              "      <td>0</td>\n",
              "      <td>REJ</td>\n",
              "      <td>...</td>\n",
              "      <td>0</td>\n",
              "      <td>0</td>\n",
              "      <td>-</td>\n",
              "      <td>-</td>\n",
              "      <td>-</td>\n",
              "      <td>-</td>\n",
              "      <td>-</td>\n",
              "      <td>-</td>\n",
              "      <td>1</td>\n",
              "      <td>backdoor</td>\n",
              "    </tr>\n",
              "    <tr>\n",
              "      <th>4</th>\n",
              "      <td>192.168.1.193</td>\n",
              "      <td>49180</td>\n",
              "      <td>192.168.1.37</td>\n",
              "      <td>8080</td>\n",
              "      <td>tcp</td>\n",
              "      <td>-</td>\n",
              "      <td>0.000130</td>\n",
              "      <td>0</td>\n",
              "      <td>0</td>\n",
              "      <td>REJ</td>\n",
              "      <td>...</td>\n",
              "      <td>0</td>\n",
              "      <td>0</td>\n",
              "      <td>-</td>\n",
              "      <td>-</td>\n",
              "      <td>-</td>\n",
              "      <td>-</td>\n",
              "      <td>-</td>\n",
              "      <td>-</td>\n",
              "      <td>1</td>\n",
              "      <td>backdoor</td>\n",
              "    </tr>\n",
              "  </tbody>\n",
              "</table>\n",
              "<p>5 rows × 44 columns</p>\n",
              "</div>\n",
              "    <div class=\"colab-df-buttons\">\n",
              "\n",
              "  <div class=\"colab-df-container\">\n",
              "    <button class=\"colab-df-convert\" onclick=\"convertToInteractive('df-7119a155-7eb0-43f5-a206-b1f04c8edb9c')\"\n",
              "            title=\"Convert this dataframe to an interactive table.\"\n",
              "            style=\"display:none;\">\n",
              "\n",
              "  <svg xmlns=\"http://www.w3.org/2000/svg\" height=\"24px\" viewBox=\"0 -960 960 960\">\n",
              "    <path d=\"M120-120v-720h720v720H120Zm60-500h600v-160H180v160Zm220 220h160v-160H400v160Zm0 220h160v-160H400v160ZM180-400h160v-160H180v160Zm440 0h160v-160H620v160ZM180-180h160v-160H180v160Zm440 0h160v-160H620v160Z\"/>\n",
              "  </svg>\n",
              "    </button>\n",
              "\n",
              "  <style>\n",
              "    .colab-df-container {\n",
              "      display:flex;\n",
              "      gap: 12px;\n",
              "    }\n",
              "\n",
              "    .colab-df-convert {\n",
              "      background-color: #E8F0FE;\n",
              "      border: none;\n",
              "      border-radius: 50%;\n",
              "      cursor: pointer;\n",
              "      display: none;\n",
              "      fill: #1967D2;\n",
              "      height: 32px;\n",
              "      padding: 0 0 0 0;\n",
              "      width: 32px;\n",
              "    }\n",
              "\n",
              "    .colab-df-convert:hover {\n",
              "      background-color: #E2EBFA;\n",
              "      box-shadow: 0px 1px 2px rgba(60, 64, 67, 0.3), 0px 1px 3px 1px rgba(60, 64, 67, 0.15);\n",
              "      fill: #174EA6;\n",
              "    }\n",
              "\n",
              "    .colab-df-buttons div {\n",
              "      margin-bottom: 4px;\n",
              "    }\n",
              "\n",
              "    [theme=dark] .colab-df-convert {\n",
              "      background-color: #3B4455;\n",
              "      fill: #D2E3FC;\n",
              "    }\n",
              "\n",
              "    [theme=dark] .colab-df-convert:hover {\n",
              "      background-color: #434B5C;\n",
              "      box-shadow: 0px 1px 3px 1px rgba(0, 0, 0, 0.15);\n",
              "      filter: drop-shadow(0px 1px 2px rgba(0, 0, 0, 0.3));\n",
              "      fill: #FFFFFF;\n",
              "    }\n",
              "  </style>\n",
              "\n",
              "    <script>\n",
              "      const buttonEl =\n",
              "        document.querySelector('#df-7119a155-7eb0-43f5-a206-b1f04c8edb9c button.colab-df-convert');\n",
              "      buttonEl.style.display =\n",
              "        google.colab.kernel.accessAllowed ? 'block' : 'none';\n",
              "\n",
              "      async function convertToInteractive(key) {\n",
              "        const element = document.querySelector('#df-7119a155-7eb0-43f5-a206-b1f04c8edb9c');\n",
              "        const dataTable =\n",
              "          await google.colab.kernel.invokeFunction('convertToInteractive',\n",
              "                                                    [key], {});\n",
              "        if (!dataTable) return;\n",
              "\n",
              "        const docLinkHtml = 'Like what you see? Visit the ' +\n",
              "          '<a target=\"_blank\" href=https://colab.research.google.com/notebooks/data_table.ipynb>data table notebook</a>'\n",
              "          + ' to learn more about interactive tables.';\n",
              "        element.innerHTML = '';\n",
              "        dataTable['output_type'] = 'display_data';\n",
              "        await google.colab.output.renderOutput(dataTable, element);\n",
              "        const docLink = document.createElement('div');\n",
              "        docLink.innerHTML = docLinkHtml;\n",
              "        element.appendChild(docLink);\n",
              "      }\n",
              "    </script>\n",
              "  </div>\n",
              "\n",
              "\n",
              "<div id=\"df-02820209-4747-4684-91a5-f9369cd9fc49\">\n",
              "  <button class=\"colab-df-quickchart\" onclick=\"quickchart('df-02820209-4747-4684-91a5-f9369cd9fc49')\"\n",
              "            title=\"Suggest charts\"\n",
              "            style=\"display:none;\">\n",
              "\n",
              "<svg xmlns=\"http://www.w3.org/2000/svg\" height=\"24px\"viewBox=\"0 0 24 24\"\n",
              "     width=\"24px\">\n",
              "    <g>\n",
              "        <path d=\"M19 3H5c-1.1 0-2 .9-2 2v14c0 1.1.9 2 2 2h14c1.1 0 2-.9 2-2V5c0-1.1-.9-2-2-2zM9 17H7v-7h2v7zm4 0h-2V7h2v10zm4 0h-2v-4h2v4z\"/>\n",
              "    </g>\n",
              "</svg>\n",
              "  </button>\n",
              "\n",
              "<style>\n",
              "  .colab-df-quickchart {\n",
              "      --bg-color: #E8F0FE;\n",
              "      --fill-color: #1967D2;\n",
              "      --hover-bg-color: #E2EBFA;\n",
              "      --hover-fill-color: #174EA6;\n",
              "      --disabled-fill-color: #AAA;\n",
              "      --disabled-bg-color: #DDD;\n",
              "  }\n",
              "\n",
              "  [theme=dark] .colab-df-quickchart {\n",
              "      --bg-color: #3B4455;\n",
              "      --fill-color: #D2E3FC;\n",
              "      --hover-bg-color: #434B5C;\n",
              "      --hover-fill-color: #FFFFFF;\n",
              "      --disabled-bg-color: #3B4455;\n",
              "      --disabled-fill-color: #666;\n",
              "  }\n",
              "\n",
              "  .colab-df-quickchart {\n",
              "    background-color: var(--bg-color);\n",
              "    border: none;\n",
              "    border-radius: 50%;\n",
              "    cursor: pointer;\n",
              "    display: none;\n",
              "    fill: var(--fill-color);\n",
              "    height: 32px;\n",
              "    padding: 0;\n",
              "    width: 32px;\n",
              "  }\n",
              "\n",
              "  .colab-df-quickchart:hover {\n",
              "    background-color: var(--hover-bg-color);\n",
              "    box-shadow: 0 1px 2px rgba(60, 64, 67, 0.3), 0 1px 3px 1px rgba(60, 64, 67, 0.15);\n",
              "    fill: var(--button-hover-fill-color);\n",
              "  }\n",
              "\n",
              "  .colab-df-quickchart-complete:disabled,\n",
              "  .colab-df-quickchart-complete:disabled:hover {\n",
              "    background-color: var(--disabled-bg-color);\n",
              "    fill: var(--disabled-fill-color);\n",
              "    box-shadow: none;\n",
              "  }\n",
              "\n",
              "  .colab-df-spinner {\n",
              "    border: 2px solid var(--fill-color);\n",
              "    border-color: transparent;\n",
              "    border-bottom-color: var(--fill-color);\n",
              "    animation:\n",
              "      spin 1s steps(1) infinite;\n",
              "  }\n",
              "\n",
              "  @keyframes spin {\n",
              "    0% {\n",
              "      border-color: transparent;\n",
              "      border-bottom-color: var(--fill-color);\n",
              "      border-left-color: var(--fill-color);\n",
              "    }\n",
              "    20% {\n",
              "      border-color: transparent;\n",
              "      border-left-color: var(--fill-color);\n",
              "      border-top-color: var(--fill-color);\n",
              "    }\n",
              "    30% {\n",
              "      border-color: transparent;\n",
              "      border-left-color: var(--fill-color);\n",
              "      border-top-color: var(--fill-color);\n",
              "      border-right-color: var(--fill-color);\n",
              "    }\n",
              "    40% {\n",
              "      border-color: transparent;\n",
              "      border-right-color: var(--fill-color);\n",
              "      border-top-color: var(--fill-color);\n",
              "    }\n",
              "    60% {\n",
              "      border-color: transparent;\n",
              "      border-right-color: var(--fill-color);\n",
              "    }\n",
              "    80% {\n",
              "      border-color: transparent;\n",
              "      border-right-color: var(--fill-color);\n",
              "      border-bottom-color: var(--fill-color);\n",
              "    }\n",
              "    90% {\n",
              "      border-color: transparent;\n",
              "      border-bottom-color: var(--fill-color);\n",
              "    }\n",
              "  }\n",
              "</style>\n",
              "\n",
              "  <script>\n",
              "    async function quickchart(key) {\n",
              "      const quickchartButtonEl =\n",
              "        document.querySelector('#' + key + ' button');\n",
              "      quickchartButtonEl.disabled = true;  // To prevent multiple clicks.\n",
              "      quickchartButtonEl.classList.add('colab-df-spinner');\n",
              "      try {\n",
              "        const charts = await google.colab.kernel.invokeFunction(\n",
              "            'suggestCharts', [key], {});\n",
              "      } catch (error) {\n",
              "        console.error('Error during call to suggestCharts:', error);\n",
              "      }\n",
              "      quickchartButtonEl.classList.remove('colab-df-spinner');\n",
              "      quickchartButtonEl.classList.add('colab-df-quickchart-complete');\n",
              "    }\n",
              "    (() => {\n",
              "      let quickchartButtonEl =\n",
              "        document.querySelector('#df-02820209-4747-4684-91a5-f9369cd9fc49 button');\n",
              "      quickchartButtonEl.style.display =\n",
              "        google.colab.kernel.accessAllowed ? 'block' : 'none';\n",
              "    })();\n",
              "  </script>\n",
              "</div>\n",
              "\n",
              "    </div>\n",
              "  </div>\n"
            ],
            "application/vnd.google.colaboratory.intrinsic+json": {
              "type": "dataframe",
              "variable_name": "data"
            }
          },
          "metadata": {},
          "execution_count": 79
        }
      ],
      "source": [
        "import pandas as pd\n",
        "data = pd.read_csv('network_traffic_prediction.csv')\n",
        "\n",
        "data.head()"
      ]
    },
    {
      "cell_type": "markdown",
      "id": "407c5bd2",
      "metadata": {
        "id": "407c5bd2"
      },
      "source": [
        "# Data Preprocessing"
      ]
    },
    {
      "cell_type": "markdown",
      "source": [
        "Convert IP addresses to categorical"
      ],
      "metadata": {
        "id": "x-T4XICafMQW"
      },
      "id": "x-T4XICafMQW"
    },
    {
      "cell_type": "code",
      "source": [
        "# Convert IP addresses to categorical\n",
        "data['src_ip'] = data['src_ip'].astype('category')\n",
        "data['dst_ip'] = data['dst_ip'].astype('category')"
      ],
      "metadata": {
        "id": "zxn51JYyG1WE"
      },
      "id": "zxn51JYyG1WE",
      "execution_count": 80,
      "outputs": []
    },
    {
      "cell_type": "markdown",
      "source": [
        "General data information"
      ],
      "metadata": {
        "id": "K-dCzsDEfN3n"
      },
      "id": "K-dCzsDEfN3n"
    },
    {
      "cell_type": "code",
      "source": [
        "# data general information\n",
        "data.info()"
      ],
      "metadata": {
        "colab": {
          "base_uri": "https://localhost:8080/"
        },
        "id": "XgafqMcYGxRt",
        "outputId": "726297fa-143f-4f71-b993-fcb1c1fd24af"
      },
      "id": "XgafqMcYGxRt",
      "execution_count": 81,
      "outputs": [
        {
          "output_type": "stream",
          "name": "stdout",
          "text": [
            "<class 'pandas.core.frame.DataFrame'>\n",
            "RangeIndex: 211043 entries, 0 to 211042\n",
            "Data columns (total 44 columns):\n",
            " #   Column                  Non-Null Count   Dtype   \n",
            "---  ------                  --------------   -----   \n",
            " 0   src_ip                  211043 non-null  category\n",
            " 1   src_port                211043 non-null  int64   \n",
            " 2   dst_ip                  211043 non-null  category\n",
            " 3   dst_port                211043 non-null  int64   \n",
            " 4   proto                   211043 non-null  object  \n",
            " 5   service                 211043 non-null  object  \n",
            " 6   duration                211043 non-null  float64 \n",
            " 7   src_bytes               211043 non-null  int64   \n",
            " 8   dst_bytes               211043 non-null  int64   \n",
            " 9   conn_state              211043 non-null  object  \n",
            " 10  missed_bytes            211043 non-null  int64   \n",
            " 11  src_pkts                211043 non-null  int64   \n",
            " 12  src_ip_bytes            211043 non-null  int64   \n",
            " 13  dst_pkts                211043 non-null  int64   \n",
            " 14  dst_ip_bytes            211043 non-null  int64   \n",
            " 15  dns_query               211043 non-null  object  \n",
            " 16  dns_qclass              211043 non-null  int64   \n",
            " 17  dns_qtype               211043 non-null  int64   \n",
            " 18  dns_rcode               211043 non-null  int64   \n",
            " 19  dns_AA                  211043 non-null  object  \n",
            " 20  dns_RD                  211043 non-null  object  \n",
            " 21  dns_RA                  211043 non-null  object  \n",
            " 22  dns_rejected            211043 non-null  object  \n",
            " 23  ssl_version             211043 non-null  object  \n",
            " 24  ssl_cipher              211043 non-null  object  \n",
            " 25  ssl_resumed             211043 non-null  object  \n",
            " 26  ssl_established         211043 non-null  object  \n",
            " 27  ssl_subject             211043 non-null  object  \n",
            " 28  ssl_issuer              211043 non-null  object  \n",
            " 29  http_trans_depth        211043 non-null  object  \n",
            " 30  http_method             211043 non-null  object  \n",
            " 31  http_uri                211043 non-null  object  \n",
            " 32  http_version            211043 non-null  object  \n",
            " 33  http_request_body_len   211043 non-null  int64   \n",
            " 34  http_response_body_len  211043 non-null  int64   \n",
            " 35  http_status_code        211043 non-null  int64   \n",
            " 36  http_user_agent         211043 non-null  object  \n",
            " 37  http_orig_mime_types    211043 non-null  object  \n",
            " 38  http_resp_mime_types    211043 non-null  object  \n",
            " 39  weird_name              211043 non-null  object  \n",
            " 40  weird_addl              211043 non-null  object  \n",
            " 41  weird_notice            211043 non-null  object  \n",
            " 42  label                   211043 non-null  int64   \n",
            " 43  type                    211043 non-null  object  \n",
            "dtypes: category(2), float64(1), int64(16), object(25)\n",
            "memory usage: 68.3+ MB\n"
          ]
        }
      ]
    },
    {
      "cell_type": "markdown",
      "id": "e7167d5f",
      "metadata": {
        "id": "e7167d5f"
      },
      "source": [
        "Checking and removing missing values"
      ]
    },
    {
      "cell_type": "code",
      "execution_count": 82,
      "id": "9d936fd3",
      "metadata": {
        "id": "9d936fd3",
        "colab": {
          "base_uri": "https://localhost:8080/"
        },
        "outputId": "f5255ee3-326e-4c88-ab51-75e8d6c34b3d"
      },
      "outputs": [
        {
          "output_type": "stream",
          "name": "stderr",
          "text": [
            "<ipython-input-82-67832fa23d28>:2: FutureWarning: DataFrame.fillna with 'method' is deprecated and will raise in a future version. Use obj.ffill() or obj.bfill() instead.\n",
            "  data = data.fillna(method='ffill')\n"
          ]
        }
      ],
      "source": [
        "# Check for any missing values and fill or drop\n",
        "data = data.fillna(method='ffill')"
      ]
    },
    {
      "cell_type": "code",
      "execution_count": 83,
      "id": "cdccec0f",
      "metadata": {
        "colab": {
          "base_uri": "https://localhost:8080/"
        },
        "id": "cdccec0f",
        "outputId": "64ac62b6-619f-45d3-b24d-2dc960d81fc8"
      },
      "outputs": [
        {
          "output_type": "stream",
          "name": "stdout",
          "text": [
            "src_ip                    0\n",
            "src_port                  0\n",
            "dst_ip                    0\n",
            "dst_port                  0\n",
            "proto                     0\n",
            "service                   0\n",
            "duration                  0\n",
            "src_bytes                 0\n",
            "dst_bytes                 0\n",
            "conn_state                0\n",
            "missed_bytes              0\n",
            "src_pkts                  0\n",
            "src_ip_bytes              0\n",
            "dst_pkts                  0\n",
            "dst_ip_bytes              0\n",
            "dns_query                 0\n",
            "dns_qclass                0\n",
            "dns_qtype                 0\n",
            "dns_rcode                 0\n",
            "dns_AA                    0\n",
            "dns_RD                    0\n",
            "dns_RA                    0\n",
            "dns_rejected              0\n",
            "ssl_version               0\n",
            "ssl_cipher                0\n",
            "ssl_resumed               0\n",
            "ssl_established           0\n",
            "ssl_subject               0\n",
            "ssl_issuer                0\n",
            "http_trans_depth          0\n",
            "http_method               0\n",
            "http_uri                  0\n",
            "http_version              0\n",
            "http_request_body_len     0\n",
            "http_response_body_len    0\n",
            "http_status_code          0\n",
            "http_user_agent           0\n",
            "http_orig_mime_types      0\n",
            "http_resp_mime_types      0\n",
            "weird_name                0\n",
            "weird_addl                0\n",
            "weird_notice              0\n",
            "label                     0\n",
            "type                      0\n",
            "dtype: int64\n"
          ]
        }
      ],
      "source": [
        "# printing missing values after imputation\n",
        "missing_values = data.isnull().sum()\n",
        "print(missing_values)"
      ]
    },
    {
      "cell_type": "code",
      "execution_count": 84,
      "id": "13e3fae3",
      "metadata": {
        "colab": {
          "base_uri": "https://localhost:8080/",
          "height": 255
        },
        "id": "13e3fae3",
        "outputId": "e25e09a7-6384-4815-bbe4-5948b753fca9"
      },
      "outputs": [
        {
          "output_type": "execute_result",
          "data": {
            "text/plain": [
              "          src_ip  src_port         dst_ip  dst_port proto service    duration  \\\n",
              "0   192.168.1.37      4444  192.168.1.193     49178   tcp       -  290.371539   \n",
              "1  192.168.1.193     49180   192.168.1.37      8080   tcp       -    0.000102   \n",
              "2  192.168.1.193     49180   192.168.1.37      8080   tcp       -    0.000148   \n",
              "3  192.168.1.193     49180   192.168.1.37      8080   tcp       -    0.000113   \n",
              "4  192.168.1.193     49180   192.168.1.37      8080   tcp       -    0.000130   \n",
              "\n",
              "   src_bytes  dst_bytes conn_state  ...  http_response_body_len  \\\n",
              "0     101568       2592        OTH  ...                       0   \n",
              "1          0          0        REJ  ...                       0   \n",
              "2          0          0        REJ  ...                       0   \n",
              "3          0          0        REJ  ...                       0   \n",
              "4          0          0        REJ  ...                       0   \n",
              "\n",
              "   http_status_code  http_user_agent  http_orig_mime_types  \\\n",
              "0                 0                -                     -   \n",
              "1                 0                -                     -   \n",
              "2                 0                -                     -   \n",
              "3                 0                -                     -   \n",
              "4                 0                -                     -   \n",
              "\n",
              "   http_resp_mime_types weird_name  weird_addl  weird_notice  label      type  \n",
              "0                     -          -           -             -      1  backdoor  \n",
              "1                     -          -           -             -      1  backdoor  \n",
              "2                     -          -           -             -      1  backdoor  \n",
              "3                     -          -           -             -      1  backdoor  \n",
              "4                     -          -           -             -      1  backdoor  \n",
              "\n",
              "[5 rows x 44 columns]"
            ],
            "text/html": [
              "\n",
              "  <div id=\"df-36cd2738-377a-458e-afc3-d49f08303161\" class=\"colab-df-container\">\n",
              "    <div>\n",
              "<style scoped>\n",
              "    .dataframe tbody tr th:only-of-type {\n",
              "        vertical-align: middle;\n",
              "    }\n",
              "\n",
              "    .dataframe tbody tr th {\n",
              "        vertical-align: top;\n",
              "    }\n",
              "\n",
              "    .dataframe thead th {\n",
              "        text-align: right;\n",
              "    }\n",
              "</style>\n",
              "<table border=\"1\" class=\"dataframe\">\n",
              "  <thead>\n",
              "    <tr style=\"text-align: right;\">\n",
              "      <th></th>\n",
              "      <th>src_ip</th>\n",
              "      <th>src_port</th>\n",
              "      <th>dst_ip</th>\n",
              "      <th>dst_port</th>\n",
              "      <th>proto</th>\n",
              "      <th>service</th>\n",
              "      <th>duration</th>\n",
              "      <th>src_bytes</th>\n",
              "      <th>dst_bytes</th>\n",
              "      <th>conn_state</th>\n",
              "      <th>...</th>\n",
              "      <th>http_response_body_len</th>\n",
              "      <th>http_status_code</th>\n",
              "      <th>http_user_agent</th>\n",
              "      <th>http_orig_mime_types</th>\n",
              "      <th>http_resp_mime_types</th>\n",
              "      <th>weird_name</th>\n",
              "      <th>weird_addl</th>\n",
              "      <th>weird_notice</th>\n",
              "      <th>label</th>\n",
              "      <th>type</th>\n",
              "    </tr>\n",
              "  </thead>\n",
              "  <tbody>\n",
              "    <tr>\n",
              "      <th>0</th>\n",
              "      <td>192.168.1.37</td>\n",
              "      <td>4444</td>\n",
              "      <td>192.168.1.193</td>\n",
              "      <td>49178</td>\n",
              "      <td>tcp</td>\n",
              "      <td>-</td>\n",
              "      <td>290.371539</td>\n",
              "      <td>101568</td>\n",
              "      <td>2592</td>\n",
              "      <td>OTH</td>\n",
              "      <td>...</td>\n",
              "      <td>0</td>\n",
              "      <td>0</td>\n",
              "      <td>-</td>\n",
              "      <td>-</td>\n",
              "      <td>-</td>\n",
              "      <td>-</td>\n",
              "      <td>-</td>\n",
              "      <td>-</td>\n",
              "      <td>1</td>\n",
              "      <td>backdoor</td>\n",
              "    </tr>\n",
              "    <tr>\n",
              "      <th>1</th>\n",
              "      <td>192.168.1.193</td>\n",
              "      <td>49180</td>\n",
              "      <td>192.168.1.37</td>\n",
              "      <td>8080</td>\n",
              "      <td>tcp</td>\n",
              "      <td>-</td>\n",
              "      <td>0.000102</td>\n",
              "      <td>0</td>\n",
              "      <td>0</td>\n",
              "      <td>REJ</td>\n",
              "      <td>...</td>\n",
              "      <td>0</td>\n",
              "      <td>0</td>\n",
              "      <td>-</td>\n",
              "      <td>-</td>\n",
              "      <td>-</td>\n",
              "      <td>-</td>\n",
              "      <td>-</td>\n",
              "      <td>-</td>\n",
              "      <td>1</td>\n",
              "      <td>backdoor</td>\n",
              "    </tr>\n",
              "    <tr>\n",
              "      <th>2</th>\n",
              "      <td>192.168.1.193</td>\n",
              "      <td>49180</td>\n",
              "      <td>192.168.1.37</td>\n",
              "      <td>8080</td>\n",
              "      <td>tcp</td>\n",
              "      <td>-</td>\n",
              "      <td>0.000148</td>\n",
              "      <td>0</td>\n",
              "      <td>0</td>\n",
              "      <td>REJ</td>\n",
              "      <td>...</td>\n",
              "      <td>0</td>\n",
              "      <td>0</td>\n",
              "      <td>-</td>\n",
              "      <td>-</td>\n",
              "      <td>-</td>\n",
              "      <td>-</td>\n",
              "      <td>-</td>\n",
              "      <td>-</td>\n",
              "      <td>1</td>\n",
              "      <td>backdoor</td>\n",
              "    </tr>\n",
              "    <tr>\n",
              "      <th>3</th>\n",
              "      <td>192.168.1.193</td>\n",
              "      <td>49180</td>\n",
              "      <td>192.168.1.37</td>\n",
              "      <td>8080</td>\n",
              "      <td>tcp</td>\n",
              "      <td>-</td>\n",
              "      <td>0.000113</td>\n",
              "      <td>0</td>\n",
              "      <td>0</td>\n",
              "      <td>REJ</td>\n",
              "      <td>...</td>\n",
              "      <td>0</td>\n",
              "      <td>0</td>\n",
              "      <td>-</td>\n",
              "      <td>-</td>\n",
              "      <td>-</td>\n",
              "      <td>-</td>\n",
              "      <td>-</td>\n",
              "      <td>-</td>\n",
              "      <td>1</td>\n",
              "      <td>backdoor</td>\n",
              "    </tr>\n",
              "    <tr>\n",
              "      <th>4</th>\n",
              "      <td>192.168.1.193</td>\n",
              "      <td>49180</td>\n",
              "      <td>192.168.1.37</td>\n",
              "      <td>8080</td>\n",
              "      <td>tcp</td>\n",
              "      <td>-</td>\n",
              "      <td>0.000130</td>\n",
              "      <td>0</td>\n",
              "      <td>0</td>\n",
              "      <td>REJ</td>\n",
              "      <td>...</td>\n",
              "      <td>0</td>\n",
              "      <td>0</td>\n",
              "      <td>-</td>\n",
              "      <td>-</td>\n",
              "      <td>-</td>\n",
              "      <td>-</td>\n",
              "      <td>-</td>\n",
              "      <td>-</td>\n",
              "      <td>1</td>\n",
              "      <td>backdoor</td>\n",
              "    </tr>\n",
              "  </tbody>\n",
              "</table>\n",
              "<p>5 rows × 44 columns</p>\n",
              "</div>\n",
              "    <div class=\"colab-df-buttons\">\n",
              "\n",
              "  <div class=\"colab-df-container\">\n",
              "    <button class=\"colab-df-convert\" onclick=\"convertToInteractive('df-36cd2738-377a-458e-afc3-d49f08303161')\"\n",
              "            title=\"Convert this dataframe to an interactive table.\"\n",
              "            style=\"display:none;\">\n",
              "\n",
              "  <svg xmlns=\"http://www.w3.org/2000/svg\" height=\"24px\" viewBox=\"0 -960 960 960\">\n",
              "    <path d=\"M120-120v-720h720v720H120Zm60-500h600v-160H180v160Zm220 220h160v-160H400v160Zm0 220h160v-160H400v160ZM180-400h160v-160H180v160Zm440 0h160v-160H620v160ZM180-180h160v-160H180v160Zm440 0h160v-160H620v160Z\"/>\n",
              "  </svg>\n",
              "    </button>\n",
              "\n",
              "  <style>\n",
              "    .colab-df-container {\n",
              "      display:flex;\n",
              "      gap: 12px;\n",
              "    }\n",
              "\n",
              "    .colab-df-convert {\n",
              "      background-color: #E8F0FE;\n",
              "      border: none;\n",
              "      border-radius: 50%;\n",
              "      cursor: pointer;\n",
              "      display: none;\n",
              "      fill: #1967D2;\n",
              "      height: 32px;\n",
              "      padding: 0 0 0 0;\n",
              "      width: 32px;\n",
              "    }\n",
              "\n",
              "    .colab-df-convert:hover {\n",
              "      background-color: #E2EBFA;\n",
              "      box-shadow: 0px 1px 2px rgba(60, 64, 67, 0.3), 0px 1px 3px 1px rgba(60, 64, 67, 0.15);\n",
              "      fill: #174EA6;\n",
              "    }\n",
              "\n",
              "    .colab-df-buttons div {\n",
              "      margin-bottom: 4px;\n",
              "    }\n",
              "\n",
              "    [theme=dark] .colab-df-convert {\n",
              "      background-color: #3B4455;\n",
              "      fill: #D2E3FC;\n",
              "    }\n",
              "\n",
              "    [theme=dark] .colab-df-convert:hover {\n",
              "      background-color: #434B5C;\n",
              "      box-shadow: 0px 1px 3px 1px rgba(0, 0, 0, 0.15);\n",
              "      filter: drop-shadow(0px 1px 2px rgba(0, 0, 0, 0.3));\n",
              "      fill: #FFFFFF;\n",
              "    }\n",
              "  </style>\n",
              "\n",
              "    <script>\n",
              "      const buttonEl =\n",
              "        document.querySelector('#df-36cd2738-377a-458e-afc3-d49f08303161 button.colab-df-convert');\n",
              "      buttonEl.style.display =\n",
              "        google.colab.kernel.accessAllowed ? 'block' : 'none';\n",
              "\n",
              "      async function convertToInteractive(key) {\n",
              "        const element = document.querySelector('#df-36cd2738-377a-458e-afc3-d49f08303161');\n",
              "        const dataTable =\n",
              "          await google.colab.kernel.invokeFunction('convertToInteractive',\n",
              "                                                    [key], {});\n",
              "        if (!dataTable) return;\n",
              "\n",
              "        const docLinkHtml = 'Like what you see? Visit the ' +\n",
              "          '<a target=\"_blank\" href=https://colab.research.google.com/notebooks/data_table.ipynb>data table notebook</a>'\n",
              "          + ' to learn more about interactive tables.';\n",
              "        element.innerHTML = '';\n",
              "        dataTable['output_type'] = 'display_data';\n",
              "        await google.colab.output.renderOutput(dataTable, element);\n",
              "        const docLink = document.createElement('div');\n",
              "        docLink.innerHTML = docLinkHtml;\n",
              "        element.appendChild(docLink);\n",
              "      }\n",
              "    </script>\n",
              "  </div>\n",
              "\n",
              "\n",
              "<div id=\"df-71934ad3-0501-42c8-83e1-7abf43ee42bc\">\n",
              "  <button class=\"colab-df-quickchart\" onclick=\"quickchart('df-71934ad3-0501-42c8-83e1-7abf43ee42bc')\"\n",
              "            title=\"Suggest charts\"\n",
              "            style=\"display:none;\">\n",
              "\n",
              "<svg xmlns=\"http://www.w3.org/2000/svg\" height=\"24px\"viewBox=\"0 0 24 24\"\n",
              "     width=\"24px\">\n",
              "    <g>\n",
              "        <path d=\"M19 3H5c-1.1 0-2 .9-2 2v14c0 1.1.9 2 2 2h14c1.1 0 2-.9 2-2V5c0-1.1-.9-2-2-2zM9 17H7v-7h2v7zm4 0h-2V7h2v10zm4 0h-2v-4h2v4z\"/>\n",
              "    </g>\n",
              "</svg>\n",
              "  </button>\n",
              "\n",
              "<style>\n",
              "  .colab-df-quickchart {\n",
              "      --bg-color: #E8F0FE;\n",
              "      --fill-color: #1967D2;\n",
              "      --hover-bg-color: #E2EBFA;\n",
              "      --hover-fill-color: #174EA6;\n",
              "      --disabled-fill-color: #AAA;\n",
              "      --disabled-bg-color: #DDD;\n",
              "  }\n",
              "\n",
              "  [theme=dark] .colab-df-quickchart {\n",
              "      --bg-color: #3B4455;\n",
              "      --fill-color: #D2E3FC;\n",
              "      --hover-bg-color: #434B5C;\n",
              "      --hover-fill-color: #FFFFFF;\n",
              "      --disabled-bg-color: #3B4455;\n",
              "      --disabled-fill-color: #666;\n",
              "  }\n",
              "\n",
              "  .colab-df-quickchart {\n",
              "    background-color: var(--bg-color);\n",
              "    border: none;\n",
              "    border-radius: 50%;\n",
              "    cursor: pointer;\n",
              "    display: none;\n",
              "    fill: var(--fill-color);\n",
              "    height: 32px;\n",
              "    padding: 0;\n",
              "    width: 32px;\n",
              "  }\n",
              "\n",
              "  .colab-df-quickchart:hover {\n",
              "    background-color: var(--hover-bg-color);\n",
              "    box-shadow: 0 1px 2px rgba(60, 64, 67, 0.3), 0 1px 3px 1px rgba(60, 64, 67, 0.15);\n",
              "    fill: var(--button-hover-fill-color);\n",
              "  }\n",
              "\n",
              "  .colab-df-quickchart-complete:disabled,\n",
              "  .colab-df-quickchart-complete:disabled:hover {\n",
              "    background-color: var(--disabled-bg-color);\n",
              "    fill: var(--disabled-fill-color);\n",
              "    box-shadow: none;\n",
              "  }\n",
              "\n",
              "  .colab-df-spinner {\n",
              "    border: 2px solid var(--fill-color);\n",
              "    border-color: transparent;\n",
              "    border-bottom-color: var(--fill-color);\n",
              "    animation:\n",
              "      spin 1s steps(1) infinite;\n",
              "  }\n",
              "\n",
              "  @keyframes spin {\n",
              "    0% {\n",
              "      border-color: transparent;\n",
              "      border-bottom-color: var(--fill-color);\n",
              "      border-left-color: var(--fill-color);\n",
              "    }\n",
              "    20% {\n",
              "      border-color: transparent;\n",
              "      border-left-color: var(--fill-color);\n",
              "      border-top-color: var(--fill-color);\n",
              "    }\n",
              "    30% {\n",
              "      border-color: transparent;\n",
              "      border-left-color: var(--fill-color);\n",
              "      border-top-color: var(--fill-color);\n",
              "      border-right-color: var(--fill-color);\n",
              "    }\n",
              "    40% {\n",
              "      border-color: transparent;\n",
              "      border-right-color: var(--fill-color);\n",
              "      border-top-color: var(--fill-color);\n",
              "    }\n",
              "    60% {\n",
              "      border-color: transparent;\n",
              "      border-right-color: var(--fill-color);\n",
              "    }\n",
              "    80% {\n",
              "      border-color: transparent;\n",
              "      border-right-color: var(--fill-color);\n",
              "      border-bottom-color: var(--fill-color);\n",
              "    }\n",
              "    90% {\n",
              "      border-color: transparent;\n",
              "      border-bottom-color: var(--fill-color);\n",
              "    }\n",
              "  }\n",
              "</style>\n",
              "\n",
              "  <script>\n",
              "    async function quickchart(key) {\n",
              "      const quickchartButtonEl =\n",
              "        document.querySelector('#' + key + ' button');\n",
              "      quickchartButtonEl.disabled = true;  // To prevent multiple clicks.\n",
              "      quickchartButtonEl.classList.add('colab-df-spinner');\n",
              "      try {\n",
              "        const charts = await google.colab.kernel.invokeFunction(\n",
              "            'suggestCharts', [key], {});\n",
              "      } catch (error) {\n",
              "        console.error('Error during call to suggestCharts:', error);\n",
              "      }\n",
              "      quickchartButtonEl.classList.remove('colab-df-spinner');\n",
              "      quickchartButtonEl.classList.add('colab-df-quickchart-complete');\n",
              "    }\n",
              "    (() => {\n",
              "      let quickchartButtonEl =\n",
              "        document.querySelector('#df-71934ad3-0501-42c8-83e1-7abf43ee42bc button');\n",
              "      quickchartButtonEl.style.display =\n",
              "        google.colab.kernel.accessAllowed ? 'block' : 'none';\n",
              "    })();\n",
              "  </script>\n",
              "</div>\n",
              "\n",
              "    </div>\n",
              "  </div>\n"
            ],
            "application/vnd.google.colaboratory.intrinsic+json": {
              "type": "dataframe",
              "variable_name": "data"
            }
          },
          "metadata": {},
          "execution_count": 84
        }
      ],
      "source": [
        "# displaying top 5 rows data\n",
        "data.head()"
      ]
    },
    {
      "cell_type": "markdown",
      "id": "0ee2cad6",
      "metadata": {
        "id": "0ee2cad6"
      },
      "source": [
        "Outliers dection and removal"
      ]
    },
    {
      "cell_type": "code",
      "execution_count": 85,
      "id": "cc4bc159",
      "metadata": {
        "id": "cc4bc159"
      },
      "outputs": [],
      "source": [
        "# Removing outliers in 'duration'\n",
        "q_low = data['duration'].quantile(0.01)\n",
        "q_hi  = data['duration'].quantile(0.99)\n",
        "data = data[(data['duration'] > q_low) & (data['duration'] < q_hi)]"
      ]
    },
    {
      "cell_type": "markdown",
      "id": "7a99fcff",
      "metadata": {
        "id": "7a99fcff"
      },
      "source": [
        "# EDA exploratory data analysis"
      ]
    },
    {
      "cell_type": "markdown",
      "source": [
        "### Descriptive statistics"
      ],
      "metadata": {
        "id": "w_ABvyc1yeV6"
      },
      "id": "w_ABvyc1yeV6"
    },
    {
      "cell_type": "code",
      "source": [
        "data.describe()"
      ],
      "metadata": {
        "colab": {
          "base_uri": "https://localhost:8080/",
          "height": 320
        },
        "id": "y2Rx638ExE6t",
        "outputId": "2978fc70-2f2a-44fc-ebd8-23967f864781"
      },
      "id": "y2Rx638ExE6t",
      "execution_count": 86,
      "outputs": [
        {
          "output_type": "execute_result",
          "data": {
            "text/plain": [
              "            src_port       dst_port       duration     src_bytes  \\\n",
              "count  148919.000000  148919.000000  148919.000000  1.489190e+05   \n",
              "mean    37787.562098    1332.329857       2.938545  1.870687e+04   \n",
              "std     20232.055481    4744.047377      12.223528  5.052478e+06   \n",
              "min         1.000000       0.000000       0.000001  0.000000e+00   \n",
              "25%     34486.000000      53.000000       0.000124  0.000000e+00   \n",
              "50%     45608.000000      80.000000       0.002745  0.000000e+00   \n",
              "75%     50936.000000      90.000000       0.215649  1.540000e+02   \n",
              "max     65528.000000   65467.000000     117.884411  1.430386e+09   \n",
              "\n",
              "          dst_bytes  missed_bytes      src_pkts  src_ip_bytes       dst_pkts  \\\n",
              "count  1.489190e+05  1.489190e+05  148919.00000  1.489190e+05  148919.000000   \n",
              "mean   3.550329e+03  2.365423e+03      12.04162  7.094851e+02       2.838355   \n",
              "std    2.620758e+05  2.445093e+05      55.09265  7.204945e+03      51.836052   \n",
              "min    0.000000e+00  0.000000e+00       0.00000  0.000000e+00       0.000000   \n",
              "25%    0.000000e+00  0.000000e+00       1.00000  4.800000e+01       1.000000   \n",
              "50%    0.000000e+00  0.000000e+00       2.00000  1.300000e+02       1.000000   \n",
              "75%    5.010000e+02  0.000000e+00       5.00000  4.580000e+02       4.000000   \n",
              "max    6.700192e+07  6.145087e+07    8066.00000  2.259932e+06   18722.000000   \n",
              "\n",
              "       dst_ip_bytes     dns_qclass      dns_qtype      dns_rcode  \\\n",
              "count  1.489190e+05  148919.000000  148919.000000  148919.000000   \n",
              "mean   1.291110e+03     317.942707       4.313036       0.172745   \n",
              "std    2.419927e+04    3211.106479      25.911228       0.700869   \n",
              "min    0.000000e+00       0.000000       0.000000       0.000000   \n",
              "25%    4.000000e+01       0.000000       0.000000       0.000000   \n",
              "50%    6.000000e+01       0.000000       0.000000       0.000000   \n",
              "75%    6.960000e+02       0.000000       0.000000       0.000000   \n",
              "max    5.925855e+06   32769.000000     255.000000       5.000000   \n",
              "\n",
              "       http_request_body_len  http_response_body_len  http_status_code  \\\n",
              "count          148919.000000            1.489190e+05     148919.000000   \n",
              "mean                0.084368            1.982657e+02          0.416468   \n",
              "std                10.522555            3.617384e+04          9.679063   \n",
              "min                 0.000000            0.000000e+00          0.000000   \n",
              "25%                 0.000000            0.000000e+00          0.000000   \n",
              "50%                 0.000000            0.000000e+00          0.000000   \n",
              "75%                 0.000000            0.000000e+00          0.000000   \n",
              "max              2338.000000            1.342438e+07        404.000000   \n",
              "\n",
              "               label  \n",
              "count  148919.000000  \n",
              "mean        0.751194  \n",
              "std         0.432323  \n",
              "min         0.000000  \n",
              "25%         1.000000  \n",
              "50%         1.000000  \n",
              "75%         1.000000  \n",
              "max         1.000000  "
            ],
            "text/html": [
              "\n",
              "  <div id=\"df-4978bc48-272d-4e77-b104-094feacb1a3b\" class=\"colab-df-container\">\n",
              "    <div>\n",
              "<style scoped>\n",
              "    .dataframe tbody tr th:only-of-type {\n",
              "        vertical-align: middle;\n",
              "    }\n",
              "\n",
              "    .dataframe tbody tr th {\n",
              "        vertical-align: top;\n",
              "    }\n",
              "\n",
              "    .dataframe thead th {\n",
              "        text-align: right;\n",
              "    }\n",
              "</style>\n",
              "<table border=\"1\" class=\"dataframe\">\n",
              "  <thead>\n",
              "    <tr style=\"text-align: right;\">\n",
              "      <th></th>\n",
              "      <th>src_port</th>\n",
              "      <th>dst_port</th>\n",
              "      <th>duration</th>\n",
              "      <th>src_bytes</th>\n",
              "      <th>dst_bytes</th>\n",
              "      <th>missed_bytes</th>\n",
              "      <th>src_pkts</th>\n",
              "      <th>src_ip_bytes</th>\n",
              "      <th>dst_pkts</th>\n",
              "      <th>dst_ip_bytes</th>\n",
              "      <th>dns_qclass</th>\n",
              "      <th>dns_qtype</th>\n",
              "      <th>dns_rcode</th>\n",
              "      <th>http_request_body_len</th>\n",
              "      <th>http_response_body_len</th>\n",
              "      <th>http_status_code</th>\n",
              "      <th>label</th>\n",
              "    </tr>\n",
              "  </thead>\n",
              "  <tbody>\n",
              "    <tr>\n",
              "      <th>count</th>\n",
              "      <td>148919.000000</td>\n",
              "      <td>148919.000000</td>\n",
              "      <td>148919.000000</td>\n",
              "      <td>1.489190e+05</td>\n",
              "      <td>1.489190e+05</td>\n",
              "      <td>1.489190e+05</td>\n",
              "      <td>148919.00000</td>\n",
              "      <td>1.489190e+05</td>\n",
              "      <td>148919.000000</td>\n",
              "      <td>1.489190e+05</td>\n",
              "      <td>148919.000000</td>\n",
              "      <td>148919.000000</td>\n",
              "      <td>148919.000000</td>\n",
              "      <td>148919.000000</td>\n",
              "      <td>1.489190e+05</td>\n",
              "      <td>148919.000000</td>\n",
              "      <td>148919.000000</td>\n",
              "    </tr>\n",
              "    <tr>\n",
              "      <th>mean</th>\n",
              "      <td>37787.562098</td>\n",
              "      <td>1332.329857</td>\n",
              "      <td>2.938545</td>\n",
              "      <td>1.870687e+04</td>\n",
              "      <td>3.550329e+03</td>\n",
              "      <td>2.365423e+03</td>\n",
              "      <td>12.04162</td>\n",
              "      <td>7.094851e+02</td>\n",
              "      <td>2.838355</td>\n",
              "      <td>1.291110e+03</td>\n",
              "      <td>317.942707</td>\n",
              "      <td>4.313036</td>\n",
              "      <td>0.172745</td>\n",
              "      <td>0.084368</td>\n",
              "      <td>1.982657e+02</td>\n",
              "      <td>0.416468</td>\n",
              "      <td>0.751194</td>\n",
              "    </tr>\n",
              "    <tr>\n",
              "      <th>std</th>\n",
              "      <td>20232.055481</td>\n",
              "      <td>4744.047377</td>\n",
              "      <td>12.223528</td>\n",
              "      <td>5.052478e+06</td>\n",
              "      <td>2.620758e+05</td>\n",
              "      <td>2.445093e+05</td>\n",
              "      <td>55.09265</td>\n",
              "      <td>7.204945e+03</td>\n",
              "      <td>51.836052</td>\n",
              "      <td>2.419927e+04</td>\n",
              "      <td>3211.106479</td>\n",
              "      <td>25.911228</td>\n",
              "      <td>0.700869</td>\n",
              "      <td>10.522555</td>\n",
              "      <td>3.617384e+04</td>\n",
              "      <td>9.679063</td>\n",
              "      <td>0.432323</td>\n",
              "    </tr>\n",
              "    <tr>\n",
              "      <th>min</th>\n",
              "      <td>1.000000</td>\n",
              "      <td>0.000000</td>\n",
              "      <td>0.000001</td>\n",
              "      <td>0.000000e+00</td>\n",
              "      <td>0.000000e+00</td>\n",
              "      <td>0.000000e+00</td>\n",
              "      <td>0.00000</td>\n",
              "      <td>0.000000e+00</td>\n",
              "      <td>0.000000</td>\n",
              "      <td>0.000000e+00</td>\n",
              "      <td>0.000000</td>\n",
              "      <td>0.000000</td>\n",
              "      <td>0.000000</td>\n",
              "      <td>0.000000</td>\n",
              "      <td>0.000000e+00</td>\n",
              "      <td>0.000000</td>\n",
              "      <td>0.000000</td>\n",
              "    </tr>\n",
              "    <tr>\n",
              "      <th>25%</th>\n",
              "      <td>34486.000000</td>\n",
              "      <td>53.000000</td>\n",
              "      <td>0.000124</td>\n",
              "      <td>0.000000e+00</td>\n",
              "      <td>0.000000e+00</td>\n",
              "      <td>0.000000e+00</td>\n",
              "      <td>1.00000</td>\n",
              "      <td>4.800000e+01</td>\n",
              "      <td>1.000000</td>\n",
              "      <td>4.000000e+01</td>\n",
              "      <td>0.000000</td>\n",
              "      <td>0.000000</td>\n",
              "      <td>0.000000</td>\n",
              "      <td>0.000000</td>\n",
              "      <td>0.000000e+00</td>\n",
              "      <td>0.000000</td>\n",
              "      <td>1.000000</td>\n",
              "    </tr>\n",
              "    <tr>\n",
              "      <th>50%</th>\n",
              "      <td>45608.000000</td>\n",
              "      <td>80.000000</td>\n",
              "      <td>0.002745</td>\n",
              "      <td>0.000000e+00</td>\n",
              "      <td>0.000000e+00</td>\n",
              "      <td>0.000000e+00</td>\n",
              "      <td>2.00000</td>\n",
              "      <td>1.300000e+02</td>\n",
              "      <td>1.000000</td>\n",
              "      <td>6.000000e+01</td>\n",
              "      <td>0.000000</td>\n",
              "      <td>0.000000</td>\n",
              "      <td>0.000000</td>\n",
              "      <td>0.000000</td>\n",
              "      <td>0.000000e+00</td>\n",
              "      <td>0.000000</td>\n",
              "      <td>1.000000</td>\n",
              "    </tr>\n",
              "    <tr>\n",
              "      <th>75%</th>\n",
              "      <td>50936.000000</td>\n",
              "      <td>90.000000</td>\n",
              "      <td>0.215649</td>\n",
              "      <td>1.540000e+02</td>\n",
              "      <td>5.010000e+02</td>\n",
              "      <td>0.000000e+00</td>\n",
              "      <td>5.00000</td>\n",
              "      <td>4.580000e+02</td>\n",
              "      <td>4.000000</td>\n",
              "      <td>6.960000e+02</td>\n",
              "      <td>0.000000</td>\n",
              "      <td>0.000000</td>\n",
              "      <td>0.000000</td>\n",
              "      <td>0.000000</td>\n",
              "      <td>0.000000e+00</td>\n",
              "      <td>0.000000</td>\n",
              "      <td>1.000000</td>\n",
              "    </tr>\n",
              "    <tr>\n",
              "      <th>max</th>\n",
              "      <td>65528.000000</td>\n",
              "      <td>65467.000000</td>\n",
              "      <td>117.884411</td>\n",
              "      <td>1.430386e+09</td>\n",
              "      <td>6.700192e+07</td>\n",
              "      <td>6.145087e+07</td>\n",
              "      <td>8066.00000</td>\n",
              "      <td>2.259932e+06</td>\n",
              "      <td>18722.000000</td>\n",
              "      <td>5.925855e+06</td>\n",
              "      <td>32769.000000</td>\n",
              "      <td>255.000000</td>\n",
              "      <td>5.000000</td>\n",
              "      <td>2338.000000</td>\n",
              "      <td>1.342438e+07</td>\n",
              "      <td>404.000000</td>\n",
              "      <td>1.000000</td>\n",
              "    </tr>\n",
              "  </tbody>\n",
              "</table>\n",
              "</div>\n",
              "    <div class=\"colab-df-buttons\">\n",
              "\n",
              "  <div class=\"colab-df-container\">\n",
              "    <button class=\"colab-df-convert\" onclick=\"convertToInteractive('df-4978bc48-272d-4e77-b104-094feacb1a3b')\"\n",
              "            title=\"Convert this dataframe to an interactive table.\"\n",
              "            style=\"display:none;\">\n",
              "\n",
              "  <svg xmlns=\"http://www.w3.org/2000/svg\" height=\"24px\" viewBox=\"0 -960 960 960\">\n",
              "    <path d=\"M120-120v-720h720v720H120Zm60-500h600v-160H180v160Zm220 220h160v-160H400v160Zm0 220h160v-160H400v160ZM180-400h160v-160H180v160Zm440 0h160v-160H620v160ZM180-180h160v-160H180v160Zm440 0h160v-160H620v160Z\"/>\n",
              "  </svg>\n",
              "    </button>\n",
              "\n",
              "  <style>\n",
              "    .colab-df-container {\n",
              "      display:flex;\n",
              "      gap: 12px;\n",
              "    }\n",
              "\n",
              "    .colab-df-convert {\n",
              "      background-color: #E8F0FE;\n",
              "      border: none;\n",
              "      border-radius: 50%;\n",
              "      cursor: pointer;\n",
              "      display: none;\n",
              "      fill: #1967D2;\n",
              "      height: 32px;\n",
              "      padding: 0 0 0 0;\n",
              "      width: 32px;\n",
              "    }\n",
              "\n",
              "    .colab-df-convert:hover {\n",
              "      background-color: #E2EBFA;\n",
              "      box-shadow: 0px 1px 2px rgba(60, 64, 67, 0.3), 0px 1px 3px 1px rgba(60, 64, 67, 0.15);\n",
              "      fill: #174EA6;\n",
              "    }\n",
              "\n",
              "    .colab-df-buttons div {\n",
              "      margin-bottom: 4px;\n",
              "    }\n",
              "\n",
              "    [theme=dark] .colab-df-convert {\n",
              "      background-color: #3B4455;\n",
              "      fill: #D2E3FC;\n",
              "    }\n",
              "\n",
              "    [theme=dark] .colab-df-convert:hover {\n",
              "      background-color: #434B5C;\n",
              "      box-shadow: 0px 1px 3px 1px rgba(0, 0, 0, 0.15);\n",
              "      filter: drop-shadow(0px 1px 2px rgba(0, 0, 0, 0.3));\n",
              "      fill: #FFFFFF;\n",
              "    }\n",
              "  </style>\n",
              "\n",
              "    <script>\n",
              "      const buttonEl =\n",
              "        document.querySelector('#df-4978bc48-272d-4e77-b104-094feacb1a3b button.colab-df-convert');\n",
              "      buttonEl.style.display =\n",
              "        google.colab.kernel.accessAllowed ? 'block' : 'none';\n",
              "\n",
              "      async function convertToInteractive(key) {\n",
              "        const element = document.querySelector('#df-4978bc48-272d-4e77-b104-094feacb1a3b');\n",
              "        const dataTable =\n",
              "          await google.colab.kernel.invokeFunction('convertToInteractive',\n",
              "                                                    [key], {});\n",
              "        if (!dataTable) return;\n",
              "\n",
              "        const docLinkHtml = 'Like what you see? Visit the ' +\n",
              "          '<a target=\"_blank\" href=https://colab.research.google.com/notebooks/data_table.ipynb>data table notebook</a>'\n",
              "          + ' to learn more about interactive tables.';\n",
              "        element.innerHTML = '';\n",
              "        dataTable['output_type'] = 'display_data';\n",
              "        await google.colab.output.renderOutput(dataTable, element);\n",
              "        const docLink = document.createElement('div');\n",
              "        docLink.innerHTML = docLinkHtml;\n",
              "        element.appendChild(docLink);\n",
              "      }\n",
              "    </script>\n",
              "  </div>\n",
              "\n",
              "\n",
              "<div id=\"df-e01ba969-9796-47af-af23-e6ede8f05c32\">\n",
              "  <button class=\"colab-df-quickchart\" onclick=\"quickchart('df-e01ba969-9796-47af-af23-e6ede8f05c32')\"\n",
              "            title=\"Suggest charts\"\n",
              "            style=\"display:none;\">\n",
              "\n",
              "<svg xmlns=\"http://www.w3.org/2000/svg\" height=\"24px\"viewBox=\"0 0 24 24\"\n",
              "     width=\"24px\">\n",
              "    <g>\n",
              "        <path d=\"M19 3H5c-1.1 0-2 .9-2 2v14c0 1.1.9 2 2 2h14c1.1 0 2-.9 2-2V5c0-1.1-.9-2-2-2zM9 17H7v-7h2v7zm4 0h-2V7h2v10zm4 0h-2v-4h2v4z\"/>\n",
              "    </g>\n",
              "</svg>\n",
              "  </button>\n",
              "\n",
              "<style>\n",
              "  .colab-df-quickchart {\n",
              "      --bg-color: #E8F0FE;\n",
              "      --fill-color: #1967D2;\n",
              "      --hover-bg-color: #E2EBFA;\n",
              "      --hover-fill-color: #174EA6;\n",
              "      --disabled-fill-color: #AAA;\n",
              "      --disabled-bg-color: #DDD;\n",
              "  }\n",
              "\n",
              "  [theme=dark] .colab-df-quickchart {\n",
              "      --bg-color: #3B4455;\n",
              "      --fill-color: #D2E3FC;\n",
              "      --hover-bg-color: #434B5C;\n",
              "      --hover-fill-color: #FFFFFF;\n",
              "      --disabled-bg-color: #3B4455;\n",
              "      --disabled-fill-color: #666;\n",
              "  }\n",
              "\n",
              "  .colab-df-quickchart {\n",
              "    background-color: var(--bg-color);\n",
              "    border: none;\n",
              "    border-radius: 50%;\n",
              "    cursor: pointer;\n",
              "    display: none;\n",
              "    fill: var(--fill-color);\n",
              "    height: 32px;\n",
              "    padding: 0;\n",
              "    width: 32px;\n",
              "  }\n",
              "\n",
              "  .colab-df-quickchart:hover {\n",
              "    background-color: var(--hover-bg-color);\n",
              "    box-shadow: 0 1px 2px rgba(60, 64, 67, 0.3), 0 1px 3px 1px rgba(60, 64, 67, 0.15);\n",
              "    fill: var(--button-hover-fill-color);\n",
              "  }\n",
              "\n",
              "  .colab-df-quickchart-complete:disabled,\n",
              "  .colab-df-quickchart-complete:disabled:hover {\n",
              "    background-color: var(--disabled-bg-color);\n",
              "    fill: var(--disabled-fill-color);\n",
              "    box-shadow: none;\n",
              "  }\n",
              "\n",
              "  .colab-df-spinner {\n",
              "    border: 2px solid var(--fill-color);\n",
              "    border-color: transparent;\n",
              "    border-bottom-color: var(--fill-color);\n",
              "    animation:\n",
              "      spin 1s steps(1) infinite;\n",
              "  }\n",
              "\n",
              "  @keyframes spin {\n",
              "    0% {\n",
              "      border-color: transparent;\n",
              "      border-bottom-color: var(--fill-color);\n",
              "      border-left-color: var(--fill-color);\n",
              "    }\n",
              "    20% {\n",
              "      border-color: transparent;\n",
              "      border-left-color: var(--fill-color);\n",
              "      border-top-color: var(--fill-color);\n",
              "    }\n",
              "    30% {\n",
              "      border-color: transparent;\n",
              "      border-left-color: var(--fill-color);\n",
              "      border-top-color: var(--fill-color);\n",
              "      border-right-color: var(--fill-color);\n",
              "    }\n",
              "    40% {\n",
              "      border-color: transparent;\n",
              "      border-right-color: var(--fill-color);\n",
              "      border-top-color: var(--fill-color);\n",
              "    }\n",
              "    60% {\n",
              "      border-color: transparent;\n",
              "      border-right-color: var(--fill-color);\n",
              "    }\n",
              "    80% {\n",
              "      border-color: transparent;\n",
              "      border-right-color: var(--fill-color);\n",
              "      border-bottom-color: var(--fill-color);\n",
              "    }\n",
              "    90% {\n",
              "      border-color: transparent;\n",
              "      border-bottom-color: var(--fill-color);\n",
              "    }\n",
              "  }\n",
              "</style>\n",
              "\n",
              "  <script>\n",
              "    async function quickchart(key) {\n",
              "      const quickchartButtonEl =\n",
              "        document.querySelector('#' + key + ' button');\n",
              "      quickchartButtonEl.disabled = true;  // To prevent multiple clicks.\n",
              "      quickchartButtonEl.classList.add('colab-df-spinner');\n",
              "      try {\n",
              "        const charts = await google.colab.kernel.invokeFunction(\n",
              "            'suggestCharts', [key], {});\n",
              "      } catch (error) {\n",
              "        console.error('Error during call to suggestCharts:', error);\n",
              "      }\n",
              "      quickchartButtonEl.classList.remove('colab-df-spinner');\n",
              "      quickchartButtonEl.classList.add('colab-df-quickchart-complete');\n",
              "    }\n",
              "    (() => {\n",
              "      let quickchartButtonEl =\n",
              "        document.querySelector('#df-e01ba969-9796-47af-af23-e6ede8f05c32 button');\n",
              "      quickchartButtonEl.style.display =\n",
              "        google.colab.kernel.accessAllowed ? 'block' : 'none';\n",
              "    })();\n",
              "  </script>\n",
              "</div>\n",
              "\n",
              "    </div>\n",
              "  </div>\n"
            ],
            "application/vnd.google.colaboratory.intrinsic+json": {
              "type": "dataframe",
              "summary": "{\n  \"name\": \"data\",\n  \"rows\": 8,\n  \"fields\": [\n    {\n      \"column\": \"src_port\",\n      \"properties\": {\n        \"dtype\": \"number\",\n        \"std\": 44433.87108356966,\n        \"min\": 1.0,\n        \"max\": 148919.0,\n        \"num_unique_values\": 8,\n        \"samples\": [\n          37787.5620975161,\n          45608.0,\n          148919.0\n        ],\n        \"semantic_type\": \"\",\n        \"description\": \"\"\n      }\n    },\n    {\n      \"column\": \"dst_port\",\n      \"properties\": {\n        \"dtype\": \"number\",\n        \"std\": 53983.252140622084,\n        \"min\": 0.0,\n        \"max\": 148919.0,\n        \"num_unique_values\": 8,\n        \"samples\": [\n          1332.3298571706766,\n          80.0,\n          148919.0\n        ],\n        \"semantic_type\": \"\",\n        \"description\": \"\"\n      }\n    },\n    {\n      \"column\": \"duration\",\n      \"properties\": {\n        \"dtype\": \"number\",\n        \"std\": 52644.10210219927,\n        \"min\": 1e-06,\n        \"max\": 148919.0,\n        \"num_unique_values\": 8,\n        \"samples\": [\n          2.9385446009911433,\n          0.002745,\n          148919.0\n        ],\n        \"semantic_type\": \"\",\n        \"description\": \"\"\n      }\n    },\n    {\n      \"column\": \"src_bytes\",\n      \"properties\": {\n        \"dtype\": \"number\",\n        \"std\": 505457069.66776466,\n        \"min\": 0.0,\n        \"max\": 1430385581.0,\n        \"num_unique_values\": 6,\n        \"samples\": [\n          148919.0,\n          18706.868801160363,\n          1430385581.0\n        ],\n        \"semantic_type\": \"\",\n        \"description\": \"\"\n      }\n    },\n    {\n      \"column\": \"dst_bytes\",\n      \"properties\": {\n        \"dtype\": \"number\",\n        \"std\": 23667994.038541116,\n        \"min\": 0.0,\n        \"max\": 67001923.0,\n        \"num_unique_values\": 6,\n        \"samples\": [\n          148919.0,\n          3550.3291722345703,\n          67001923.0\n        ],\n        \"semantic_type\": \"\",\n        \"description\": \"\"\n      }\n    },\n    {\n      \"column\": \"missed_bytes\",\n      \"properties\": {\n        \"dtype\": \"number\",\n        \"std\": 21706369.63529989,\n        \"min\": 0.0,\n        \"max\": 61450872.0,\n        \"num_unique_values\": 5,\n        \"samples\": [\n          2365.422713018487,\n          61450872.0,\n          244509.29899457179\n        ],\n        \"semantic_type\": \"\",\n        \"description\": \"\"\n      }\n    },\n    {\n      \"column\": \"src_pkts\",\n      \"properties\": {\n        \"dtype\": \"number\",\n        \"std\": 52315.58959825886,\n        \"min\": 0.0,\n        \"max\": 148919.0,\n        \"num_unique_values\": 8,\n        \"samples\": [\n          12.041619941041775,\n          2.0,\n          148919.0\n        ],\n        \"semantic_type\": \"\",\n        \"description\": \"\"\n      }\n    },\n    {\n      \"column\": \"src_ip_bytes\",\n      \"properties\": {\n        \"dtype\": \"number\",\n        \"std\": 792738.7830995548,\n        \"min\": 0.0,\n        \"max\": 2259932.0,\n        \"num_unique_values\": 8,\n        \"samples\": [\n          709.4851160698098,\n          130.0,\n          148919.0\n        ],\n        \"semantic_type\": \"\",\n        \"description\": \"\"\n      }\n    },\n    {\n      \"column\": \"dst_pkts\",\n      \"properties\": {\n        \"dtype\": \"number\",\n        \"std\": 52115.12408420017,\n        \"min\": 0.0,\n        \"max\": 148919.0,\n        \"num_unique_values\": 7,\n        \"samples\": [\n          148919.0,\n          2.8383550789355287,\n          4.0\n        ],\n        \"semantic_type\": \"\",\n        \"description\": \"\"\n      }\n    },\n    {\n      \"column\": \"dst_ip_bytes\",\n      \"properties\": {\n        \"dtype\": \"number\",\n        \"std\": 2086886.0909308586,\n        \"min\": 0.0,\n        \"max\": 5925855.0,\n        \"num_unique_values\": 8,\n        \"samples\": [\n          1291.1098516643276,\n          60.0,\n          148919.0\n        ],\n        \"semantic_type\": \"\",\n        \"description\": \"\"\n      }\n    },\n    {\n      \"column\": \"dns_qclass\",\n      \"properties\": {\n        \"dtype\": \"number\",\n        \"std\": 52061.665086053305,\n        \"min\": 0.0,\n        \"max\": 148919.0,\n        \"num_unique_values\": 5,\n        \"samples\": [\n          317.9427071092339,\n          32769.0,\n          3211.1064791657113\n        ],\n        \"semantic_type\": \"\",\n        \"description\": \"\"\n      }\n    },\n    {\n      \"column\": \"dns_qtype\",\n      \"properties\": {\n        \"dtype\": \"number\",\n        \"std\": 52636.484778309234,\n        \"min\": 0.0,\n        \"max\": 148919.0,\n        \"num_unique_values\": 5,\n        \"samples\": [\n          4.313035945715456,\n          255.0,\n          25.91122794712907\n        ],\n        \"semantic_type\": \"\",\n        \"description\": \"\"\n      }\n    },\n    {\n      \"column\": \"dns_rcode\",\n      \"properties\": {\n        \"dtype\": \"number\",\n        \"std\": 52650.52073938717,\n        \"min\": 0.0,\n        \"max\": 148919.0,\n        \"num_unique_values\": 5,\n        \"samples\": [\n          0.1727449150209174,\n          5.0,\n          0.7008691483406226\n        ],\n        \"semantic_type\": \"\",\n        \"description\": \"\"\n      }\n    },\n    {\n      \"column\": \"http_request_body_len\",\n      \"properties\": {\n        \"dtype\": \"number\",\n        \"std\": 52538.555642114115,\n        \"min\": 0.0,\n        \"max\": 148919.0,\n        \"num_unique_values\": 5,\n        \"samples\": [\n          0.08436801214082823,\n          2338.0,\n          10.522554676529685\n        ],\n        \"semantic_type\": \"\",\n        \"description\": \"\"\n      }\n    },\n    {\n      \"column\": \"http_response_body_len\",\n      \"properties\": {\n        \"dtype\": \"number\",\n        \"std\": 4737158.041340112,\n        \"min\": 0.0,\n        \"max\": 13424384.0,\n        \"num_unique_values\": 5,\n        \"samples\": [\n          198.26565448330973,\n          13424384.0,\n          36173.84402685458\n        ],\n        \"semantic_type\": \"\",\n        \"description\": \"\"\n      }\n    },\n    {\n      \"column\": \"http_status_code\",\n      \"properties\": {\n        \"dtype\": \"number\",\n        \"std\": 52630.090786340574,\n        \"min\": 0.0,\n        \"max\": 148919.0,\n        \"num_unique_values\": 5,\n        \"samples\": [\n          0.4164680128123342,\n          404.0,\n          9.679062979212292\n        ],\n        \"semantic_type\": \"\",\n        \"description\": \"\"\n      }\n    },\n    {\n      \"column\": \"label\",\n      \"properties\": {\n        \"dtype\": \"number\",\n        \"std\": 52650.555567882395,\n        \"min\": 0.0,\n        \"max\": 148919.0,\n        \"num_unique_values\": 5,\n        \"samples\": [\n          0.7511936018909608,\n          1.0,\n          0.4323228301097191\n        ],\n        \"semantic_type\": \"\",\n        \"description\": \"\"\n      }\n    }\n  ]\n}"
            }
          },
          "metadata": {},
          "execution_count": 86
        }
      ]
    },
    {
      "cell_type": "markdown",
      "source": [
        "### Distribution of Connection States"
      ],
      "metadata": {
        "id": "8OL7wzmbyiKl"
      },
      "id": "8OL7wzmbyiKl"
    },
    {
      "cell_type": "code",
      "source": [
        "# Distribution of Connection States\n",
        "plt.figure(figsize=(10, 6))\n",
        "sns.countplot(data=data, x='conn_state', order=data['conn_state'].value_counts().index)\n",
        "plt.title('Distribution of Connection States')\n",
        "plt.show()"
      ],
      "metadata": {
        "colab": {
          "base_uri": "https://localhost:8080/",
          "height": 564
        },
        "id": "tRRW_1H4xLAZ",
        "outputId": "13a8bacd-2013-4d2c-a64b-a1874afbc0c2"
      },
      "id": "tRRW_1H4xLAZ",
      "execution_count": 87,
      "outputs": [
        {
          "output_type": "display_data",
          "data": {
            "text/plain": [
              "<Figure size 1000x600 with 1 Axes>"
            ],
            "image/png": "[encoded data removed]"
          },
          "metadata": {}
        }
      ]
    },
    {
      "cell_type": "markdown",
      "source": [
        "### Distribution of Traffic Types"
      ],
      "metadata": {
        "id": "Zt_QBwK-ykju"
      },
      "id": "Zt_QBwK-ykju"
    },
    {
      "cell_type": "code",
      "source": [
        "# Distribution of Traffic Types\n",
        "plt.figure(figsize=(10, 6))\n",
        "sns.countplot(data=data, x='type', order=data['type'].value_counts().index)\n",
        "plt.title('Distribution of Traffic Types')\n",
        "plt.xticks(rotation=90)\n",
        "plt.show()"
      ],
      "metadata": {
        "colab": {
          "base_uri": "https://localhost:8080/",
          "height": 616
        },
        "id": "d8xqbF98xP7G",
        "outputId": "ab3450b4-915c-4baf-8d1f-8557c5d67f1d"
      },
      "id": "d8xqbF98xP7G",
      "execution_count": 88,
      "outputs": [
        {
          "output_type": "display_data",
          "data": {
            "text/plain": [
              "<Figure size 1000x600 with 1 Axes>"
            ],
            "image/png": "[encoded data removed]"
          },
          "metadata": {}
        }
      ]
    },
    {
      "cell_type": "markdown",
      "source": [
        "### Duration vs Destination Bytes by Protoco"
      ],
      "metadata": {
        "id": "-ID9VigryoRo"
      },
      "id": "-ID9VigryoRo"
    },
    {
      "cell_type": "code",
      "source": [
        "# Duration vs Destination Bytes by Protoco\n",
        "plt.figure(figsize=(10, 6))\n",
        "sns.scatterplot(x=data['duration'], y=data['dst_bytes'], hue=data['proto'], alpha=0.5)\n",
        "plt.title('Duration vs Destination Bytes by Protocol')\n",
        "plt.show()"
      ],
      "metadata": {
        "colab": {
          "base_uri": "https://localhost:8080/",
          "height": 564
        },
        "id": "lelONeYmxdPe",
        "outputId": "58827ca5-f897-4e90-9b21-4fe3936c90c3"
      },
      "id": "lelONeYmxdPe",
      "execution_count": 89,
      "outputs": [
        {
          "output_type": "display_data",
          "data": {
            "text/plain": [
              "<Figure size 1000x600 with 1 Axes>"
            ],
            "image/png": "[encoded data removed]"
          },
          "metadata": {}
        }
      ]
    },
    {
      "cell_type": "markdown",
      "source": [
        "### Distribution of DNS Query Types"
      ],
      "metadata": {
        "id": "A4tDj2j3yrRv"
      },
      "id": "A4tDj2j3yrRv"
    },
    {
      "cell_type": "code",
      "source": [
        "# Distribution of DNS Query Types\n",
        "plt.figure(figsize=(10, 6))\n",
        "sns.countplot(data=data, x='dns_qtype', order=data['dns_qtype'].value_counts().index)\n",
        "plt.title('Distribution of DNS Query Types')\n",
        "plt.show()"
      ],
      "metadata": {
        "colab": {
          "base_uri": "https://localhost:8080/",
          "height": 564
        },
        "id": "801veSLwxozk",
        "outputId": "6995d40a-da4a-4cf5-9db3-47cccc59d735"
      },
      "id": "801veSLwxozk",
      "execution_count": 90,
      "outputs": [
        {
          "output_type": "display_data",
          "data": {
            "text/plain": [
              "<Figure size 1000x600 with 1 Axes>"
            ],
            "image/png": "[encoded data removed]"
          },
          "metadata": {}
        }
      ]
    },
    {
      "cell_type": "markdown",
      "source": [
        "### Distribution of Labels"
      ],
      "metadata": {
        "id": "ctbsZzRKyuF9"
      },
      "id": "ctbsZzRKyuF9"
    },
    {
      "cell_type": "code",
      "source": [
        "# Distribution of Labels\n",
        "plt.figure(figsize=(10, 6))\n",
        "sns.countplot(data=data, x='label', order=data['label'].value_counts().index)\n",
        "plt.title('Distribution of Traffic Labels')\n",
        "plt.show()"
      ],
      "metadata": {
        "colab": {
          "base_uri": "https://localhost:8080/",
          "height": 564
        },
        "id": "oVi9CNMXxtSC",
        "outputId": "2352337c-4391-4435-cbf6-922b8c0e7b72"
      },
      "id": "oVi9CNMXxtSC",
      "execution_count": 91,
      "outputs": [
        {
          "output_type": "display_data",
          "data": {
            "text/plain": [
              "<Figure size 1000x600 with 1 Axes>"
            ],
            "image/png": "[encoded data removed]"
          },
          "metadata": {}
        }
      ]
    },
    {
      "cell_type": "markdown",
      "source": [
        "### Traffic Types by Label"
      ],
      "metadata": {
        "id": "eUWICMbdybzH"
      },
      "id": "eUWICMbdybzH"
    },
    {
      "cell_type": "code",
      "source": [
        "# If 'label' indicates normal vs. abnormal traffic, explore this more by cross-tabulating with 'type'\n",
        "plt.figure(figsize=(10, 6))\n",
        "sns.countplot(data=data, x='type', hue='label', order=data['type'].value_counts().index)\n",
        "plt.title('Traffic Types by Label')\n",
        "plt.xticks(rotation=90)\n",
        "plt.show()"
      ],
      "metadata": {
        "colab": {
          "base_uri": "https://localhost:8080/",
          "height": 616
        },
        "id": "5026w4hOxvoa",
        "outputId": "04e03e21-09f8-4594-c023-9cc6e2633ded"
      },
      "id": "5026w4hOxvoa",
      "execution_count": 92,
      "outputs": [
        {
          "output_type": "display_data",
          "data": {
            "text/plain": [
              "<Figure size 1000x600 with 1 Axes>"
            ],
            "image/png": "[encoded data removed]"
          },
          "metadata": {}
        }
      ]
    },
    {
      "cell_type": "markdown",
      "id": "1a7aa502",
      "metadata": {
        "id": "1a7aa502"
      },
      "source": [
        "### Correlation Matrix of Features"
      ]
    },
    {
      "cell_type": "code",
      "execution_count": 93,
      "id": "11c65720",
      "metadata": {
        "colab": {
          "base_uri": "https://localhost:8080/",
          "height": 853
        },
        "id": "11c65720",
        "outputId": "7acca6f9-cd33-4b7b-e254-835c3d2017c7"
      },
      "outputs": [
        {
          "output_type": "display_data",
          "data": {
            "text/plain": [
              "<Figure size 1200x1000 with 2 Axes>"
            ],
            "image/png": "[encoded data removed]"
          },
          "metadata": {}
        }
      ],
      "source": [
        "numerical_features = ['src_bytes', 'dst_bytes', 'src_pkts', 'dst_pkts']\n",
        "\n",
        "# Calculate correlation matrix\n",
        "correlation_matrix = data[numerical_features + ['duration']].corr()\n",
        "\n",
        "# Plotting the correlation matrix\n",
        "plt.figure(figsize=(12, 10))\n",
        "sns.heatmap(correlation_matrix, annot=True, cmap='coolwarm', fmt=\".2f\")\n",
        "plt.title('Correlation Matrix of Features')\n",
        "plt.show()\n"
      ]
    },
    {
      "cell_type": "markdown",
      "id": "a897ceca",
      "metadata": {
        "id": "a897ceca"
      },
      "source": [
        "# Models Development and Training"
      ]
    },
    {
      "cell_type": "markdown",
      "source": [
        "## 1. Total flow duration Prediction"
      ],
      "metadata": {
        "id": "fuC1PeTPkXRg"
      },
      "id": "fuC1PeTPkXRg"
    },
    {
      "cell_type": "markdown",
      "id": "954d1fee",
      "metadata": {
        "id": "954d1fee"
      },
      "source": [
        "### Feature engineering"
      ]
    },
    {
      "cell_type": "code",
      "execution_count": 144,
      "id": "365fd13e",
      "metadata": {
        "id": "365fd13e"
      },
      "outputs": [],
      "source": [
        "from sklearn.preprocessing import LabelEncoder, StandardScaler\n",
        "\n",
        "# Initialize encoder and scaler\n",
        "encoder = LabelEncoder()\n",
        "scaler = StandardScaler()\n",
        "\n",
        "# Encode categorical features\n",
        "data['proto_encoded'] = encoder.fit_transform(data['proto'])\n",
        "data['service_encoded'] = encoder.fit_transform(data['service'])\n",
        "data['conn_state_encoded'] = encoder.fit_transform(data['conn_state'])\n",
        "\n",
        "# Selecting numerical features to scale\n",
        "numerical_features = ['src_bytes', 'dst_bytes', 'src_pkts', 'dst_pkts', 'src_ip_bytes', 'dst_ip_bytes']\n",
        "data[numerical_features] = scaler.fit_transform(data[numerical_features])\n",
        "\n",
        "# Selecting relevant features for the model\n",
        "features = numerical_features + ['proto_encoded', 'service_encoded', 'conn_state_encoded']\n",
        "target = 'duration'"
      ]
    },
    {
      "cell_type": "markdown",
      "source": [
        "### Data spliting"
      ],
      "metadata": {
        "id": "pvXAdy6dkkxX"
      },
      "id": "pvXAdy6dkkxX"
    },
    {
      "cell_type": "code",
      "source": [
        "from sklearn.model_selection import train_test_split\n",
        "\n",
        "# Split the data into training and testing sets\n",
        "X_train, X_test, y_train, y_test = train_test_split(data[features], data[target], test_size=0.2, random_state=42)\n"
      ],
      "metadata": {
        "id": "zTLDIozpjOtp"
      },
      "id": "zTLDIozpjOtp",
      "execution_count": 145,
      "outputs": []
    },
    {
      "cell_type": "markdown",
      "source": [
        "### i). KNN (KNeighborsRegressor)\n"
      ],
      "metadata": {
        "id": "9yt8tLhQkr4J"
      },
      "id": "9yt8tLhQkr4J"
    },
    {
      "cell_type": "code",
      "source": [
        "from sklearn.neighbors import KNeighborsRegressor\n",
        "from sklearn.metrics import mean_squared_error, mean_absolute_error, r2_score\n",
        "from sklearn.model_selection import GridSearchCV\n",
        "import numpy as np\n",
        "\n",
        "# Define parameter grid for hyperparameter tuning\n",
        "param_grid = {\n",
        "    'n_neighbors': [3, 5, 7, 10, 15],\n",
        "    'metric': ['euclidean', 'manhattan', 'minkowski']\n",
        "}\n",
        "\n",
        "# Initialize KNN Regressor\n",
        "knn_reg = KNeighborsRegressor()\n",
        "\n",
        "# Set up GridSearchCV\n",
        "grid_search = GridSearchCV(estimator=knn_reg, param_grid=param_grid, scoring='neg_mean_squared_error', cv=5)\n",
        "grid_search.fit(X_train, y_train)\n",
        "\n",
        "# Get the best parameters and best model\n",
        "best_knn = grid_search.best_estimator_\n",
        "print(f\"Best Parameters: {grid_search.best_params_}\")\n",
        "\n",
        "# Predict on testing data\n",
        "y_pred_knn = best_knn.predict(X_test)\n",
        "\n",
        "# Evaluation metrics\n",
        "mse_knn1 = mean_squared_error(y_test, y_pred_knn)\n",
        "mae_knn1 = mean_absolute_error(y_test, y_pred_knn)\n",
        "rmse_knn1 = np.sqrt(mse_knn1)\n",
        "r2_knn1 = r2_score(y_test, y_pred_knn)"
      ],
      "metadata": {
        "colab": {
          "base_uri": "https://localhost:8080/"
        },
        "id": "zQh-e1-Zh3Rb",
        "outputId": "24e8edba-8c85-4dd8-f52d-024a7bf89668"
      },
      "id": "zQh-e1-Zh3Rb",
      "execution_count": 146,
      "outputs": [
        {
          "output_type": "stream",
          "name": "stdout",
          "text": [
            "Best Parameters: {'metric': 'manhattan', 'n_neighbors': 3}\n"
          ]
        }
      ]
    },
    {
      "cell_type": "code",
      "source": [
        "# Print each metric in steps\n",
        "print(\"KNN Regression Evaluation Metrics:\")\n",
        "print(\"KNN R2:\", format(r2_knn1, \".3f\"))\n",
        "print(\"KNN MSE:\", format(rmse_knn1, \".3f\"))\n",
        "print(\"KNN MAE:\", format(mae_knn1, \".3f\"))\n",
        "print(\"KNN RMSE:\", format(rmse_knn1, \".3f\"))"
      ],
      "metadata": {
        "id": "HnDIzQcrjWwO",
        "outputId": "4d6de1f4-a67b-49d2-c987-b73e31052ab5",
        "colab": {
          "base_uri": "https://localhost:8080/"
        }
      },
      "id": "HnDIzQcrjWwO",
      "execution_count": 147,
      "outputs": [
        {
          "output_type": "stream",
          "name": "stdout",
          "text": [
            "KNN Regression Evaluation Metrics:\n",
            "KNN R2: 0.874\n",
            "KNN MSE: 4.388\n",
            "KNN MAE: 0.595\n",
            "KNN RMSE: 4.388\n"
          ]
        }
      ]
    },
    {
      "cell_type": "markdown",
      "source": [
        "### ii). RandomForestRegressor"
      ],
      "metadata": {
        "id": "Y_OzRWwomdbT"
      },
      "id": "Y_OzRWwomdbT"
    },
    {
      "cell_type": "code",
      "source": [
        "from sklearn.ensemble import RandomForestRegressor\n",
        "from sklearn.metrics import mean_squared_error, mean_absolute_error, r2_score\n",
        "import numpy as np\n",
        "\n",
        "# Initialize and train the Random Forest model\n",
        "rf_reg = RandomForestRegressor(n_estimators=50, random_state=42)\n",
        "rf_reg.fit(X_train, y_train)\n",
        "y_pred_rf = rf_reg.predict(X_test)\n",
        "\n",
        "# Evaluation metrics\n",
        "mse_rf1 = mean_squared_error(y_test, y_pred_rf)\n",
        "mae_rf1 = mean_absolute_error(y_test, y_pred_rf)\n",
        "rmse_rf1 = np.sqrt(mse_rf1)\n",
        "r2_rf1 = r2_score(y_test, y_pred_rf)"
      ],
      "metadata": {
        "id": "658GQjVOmVEn"
      },
      "id": "658GQjVOmVEn",
      "execution_count": 149,
      "outputs": []
    },
    {
      "cell_type": "code",
      "source": [
        "# Print each metric in steps\n",
        "print(\"Random Forest Regression Evaluation Metrics:\")\n",
        "print(\"Random Forest R2:\", format(r2_rf1, \".3f\"))\n",
        "print(\"Random Forest MSE:\", format(mse_rf1, \".3f\"))\n",
        "print(\"Random Forest MAE:\", format(mae_rf1, \".3f\"))\n",
        "print(\"Random Forest RMSE:\", format(rmse_rf1, \".3f\"))"
      ],
      "metadata": {
        "id": "-ji6FAtjm0tN",
        "outputId": "ed4ab721-20a7-4a43-ddcc-157dbeb84326",
        "colab": {
          "base_uri": "https://localhost:8080/"
        }
      },
      "id": "-ji6FAtjm0tN",
      "execution_count": 150,
      "outputs": [
        {
          "output_type": "stream",
          "name": "stdout",
          "text": [
            "Random Forest Regression Evaluation Metrics:\n",
            "Random Forest R2: 0.905\n",
            "Random Forest MSE: 14.509\n",
            "Random Forest MAE: 0.577\n",
            "Random Forest RMSE: 3.809\n"
          ]
        }
      ]
    },
    {
      "cell_type": "markdown",
      "source": [
        "### iii). ExtraTreesRegressor"
      ],
      "metadata": {
        "id": "bV4pP1x9mcPI"
      },
      "id": "bV4pP1x9mcPI"
    },
    {
      "cell_type": "code",
      "source": [
        "from sklearn.ensemble import ExtraTreesRegressor\n",
        "from sklearn.metrics import mean_squared_error, mean_absolute_error, r2_score\n",
        "import numpy as np\n",
        "# Initialize and train the Extra Trees model\n",
        "et_reg = ExtraTreesRegressor(n_estimators=100, random_state=42)\n",
        "et_reg.fit(X_train, y_train)\n",
        "y_pred_et = et_reg.predict(X_test)\n",
        "\n",
        "# Evaluation metrics\n",
        "mse_et1 = mean_squared_error(y_test, y_pred_et)\n",
        "mae_et1 = mean_absolute_error(y_test, y_pred_et)\n",
        "rmse_et1 = np.sqrt(mse_et1)\n",
        "r2_et1 = r2_score(y_test, y_pred_et)"
      ],
      "metadata": {
        "id": "0okh3JudnN80"
      },
      "id": "0okh3JudnN80",
      "execution_count": 152,
      "outputs": []
    },
    {
      "cell_type": "code",
      "source": [
        "# Print each metric in steps\n",
        "print(\"ExtraTreesRegressor Evaluation Metrics:\")\n",
        "print(\"ExtraTreesRegressor R2:\", format(r2_et1, \".3f\"))\n",
        "print(\"ExtraTreesRegressor MSE:\", format(mse_et1, \".3f\"))\n",
        "print(\"ExtraTreesRegressor MAE:\", format(mae_et1, \".3f\"))\n",
        "print(\"ExtraTreesRegressor RMSE:\", format(rmse_et1, \".3f\"))"
      ],
      "metadata": {
        "id": "Rja-0J5QnXGr",
        "outputId": "9e3b4ebd-7bb0-42ec-fce6-73e3b113b664",
        "colab": {
          "base_uri": "https://localhost:8080/"
        }
      },
      "id": "Rja-0J5QnXGr",
      "execution_count": 153,
      "outputs": [
        {
          "output_type": "stream",
          "name": "stdout",
          "text": [
            "ExtraTreesRegressor Evaluation Metrics:\n",
            "ExtraTreesRegressor R2: 0.907\n",
            "ExtraTreesRegressor MSE: 14.243\n",
            "ExtraTreesRegressor MAE: 0.548\n",
            "ExtraTreesRegressor RMSE: 3.774\n"
          ]
        }
      ]
    },
    {
      "cell_type": "markdown",
      "source": [
        "### iv). ResNet"
      ],
      "metadata": {
        "id": "mvxrh6DsnlBp"
      },
      "id": "mvxrh6DsnlBp"
    },
    {
      "cell_type": "code",
      "source": [
        "import tensorflow as tf\n",
        "from tensorflow.keras.models import Sequential\n",
        "from tensorflow.keras.layers import Dense, Dropout\n",
        "from sklearn.metrics import r2_score, mean_squared_error, mean_absolute_error\n",
        "\n",
        "# Define the model\n",
        "model = Sequential([\n",
        "    Dense(128, activation='relu', input_dim=X_train.shape[1]),\n",
        "    Dropout(0.2),\n",
        "    Dense(64, activation='relu'),\n",
        "    Dense(1)  # Output layer for regression\n",
        "])\n",
        "\n",
        "# Compile the model\n",
        "model.compile(optimizer='adam', loss='mse', metrics=['mae'])\n",
        "\n",
        "# Train the model and include validation split\n",
        "history = model.fit(X_train, y_train, epochs=10, batch_size=32, validation_split=0.2, verbose=1)\n",
        "\n",
        "# Predict on training and validation data\n",
        "y_pred_train = model.predict(X_train)\n",
        "y_pred_val = model.predict(X_train[-int(len(X_train) * 0.2):])  # Assuming last 20% is validation\n",
        "\n",
        "# Calculate R2 scores\n",
        "r2_train = r2_score(y_train, y_pred_train)\n",
        "r2_val1 = r2_score(y_train[-int(len(y_train) * 0.2):], y_pred_val)\n",
        "\n",
        "# Calculate MSE and MAE\n",
        "mse_train = mean_squared_error(y_train, y_pred_train)\n",
        "mae_train = mean_absolute_error(y_train, y_pred_train)\n",
        "mse_val1 = mean_squared_error(y_train[-int(len(y_train) * 0.2):], y_pred_val)\n",
        "mae_val1 = mean_absolute_error(y_train[-int(len(y_train) * 0.2):], y_pred_val)\n"
      ],
      "metadata": {
        "id": "se_5bhXYoI-H",
        "outputId": "3bfd5535-9390-466a-8fac-c6d119cfc692",
        "colab": {
          "base_uri": "https://localhost:8080/"
        }
      },
      "id": "se_5bhXYoI-H",
      "execution_count": 155,
      "outputs": [
        {
          "output_type": "stream",
          "name": "stdout",
          "text": [
            "Epoch 1/10\n"
          ]
        },
        {
          "output_type": "stream",
          "name": "stderr",
          "text": [
            "/usr/local/lib/python3.10/dist-packages/keras/src/layers/core/dense.py:87: UserWarning: Do not pass an `input_shape`/`input_dim` argument to a layer. When using Sequential models, prefer using an `Input(shape)` object as the first layer in the model instead.\n",
            "  super().__init__(activity_regularizer=activity_regularizer, **kwargs)\n"
          ]
        },
        {
          "output_type": "stream",
          "name": "stdout",
          "text": [
            "\u001b[1m2979/2979\u001b[0m \u001b[32m━━━━━━━━━━━━━━━━━━━━\u001b[0m\u001b[37m\u001b[0m \u001b[1m8s\u001b[0m 2ms/step - loss: 131.5822 - mae: 4.2625 - val_loss: 102.0968 - val_mae: 3.6178\n",
            "Epoch 2/10\n",
            "\u001b[1m2979/2979\u001b[0m \u001b[32m━━━━━━━━━━━━━━━━━━━━\u001b[0m\u001b[37m\u001b[0m \u001b[1m11s\u001b[0m 3ms/step - loss: 109.8040 - mae: 4.0850 - val_loss: 96.5195 - val_mae: 3.4208\n",
            "Epoch 3/10\n",
            "\u001b[1m2979/2979\u001b[0m \u001b[32m━━━━━━━━━━━━━━━━━━━━\u001b[0m\u001b[37m\u001b[0m \u001b[1m9s\u001b[0m 2ms/step - loss: 106.8624 - mae: 4.0013 - val_loss: 93.3634 - val_mae: 3.4243\n",
            "Epoch 4/10\n",
            "\u001b[1m2979/2979\u001b[0m \u001b[32m━━━━━━━━━━━━━━━━━━━━\u001b[0m\u001b[37m\u001b[0m \u001b[1m10s\u001b[0m 2ms/step - loss: 98.8708 - mae: 3.7992 - val_loss: 84.9817 - val_mae: 3.3035\n",
            "Epoch 5/10\n",
            "\u001b[1m2979/2979\u001b[0m \u001b[32m━━━━━━━━━━━━━━━━━━━━\u001b[0m\u001b[37m\u001b[0m \u001b[1m12s\u001b[0m 3ms/step - loss: 97.6510 - mae: 3.6923 - val_loss: 78.8781 - val_mae: 3.2574\n",
            "Epoch 6/10\n",
            "\u001b[1m2979/2979\u001b[0m \u001b[32m━━━━━━━━━━━━━━━━━━━━\u001b[0m\u001b[37m\u001b[0m \u001b[1m10s\u001b[0m 3ms/step - loss: 85.8686 - mae: 3.4586 - val_loss: 77.7285 - val_mae: 2.9894\n",
            "Epoch 7/10\n",
            "\u001b[1m2979/2979\u001b[0m \u001b[32m━━━━━━━━━━━━━━━━━━━━\u001b[0m\u001b[37m\u001b[0m \u001b[1m6s\u001b[0m 2ms/step - loss: 82.5437 - mae: 3.4255 - val_loss: 70.6054 - val_mae: 2.7868\n",
            "Epoch 8/10\n",
            "\u001b[1m2979/2979\u001b[0m \u001b[32m━━━━━━━━━━━━━━━━━━━━\u001b[0m\u001b[37m\u001b[0m \u001b[1m7s\u001b[0m 2ms/step - loss: 84.3764 - mae: 3.3401 - val_loss: 70.2007 - val_mae: 3.1407\n",
            "Epoch 9/10\n",
            "\u001b[1m2979/2979\u001b[0m \u001b[32m━━━━━━━━━━━━━━━━━━━━\u001b[0m\u001b[37m\u001b[0m \u001b[1m6s\u001b[0m 2ms/step - loss: 81.9353 - mae: 3.2513 - val_loss: 70.9178 - val_mae: 2.8426\n",
            "Epoch 10/10\n",
            "\u001b[1m2979/2979\u001b[0m \u001b[32m━━━━━━━━━━━━━━━━━━━━\u001b[0m\u001b[37m\u001b[0m \u001b[1m11s\u001b[0m 2ms/step - loss: 75.5363 - mae: 3.1678 - val_loss: 66.6447 - val_mae: 2.5303\n",
            "\u001b[1m3723/3723\u001b[0m \u001b[32m━━━━━━━━━━━━━━━━━━━━\u001b[0m\u001b[37m\u001b[0m \u001b[1m5s\u001b[0m 1ms/step\n",
            "\u001b[1m745/745\u001b[0m \u001b[32m━━━━━━━━━━━━━━━━━━━━\u001b[0m\u001b[37m\u001b[0m \u001b[1m1s\u001b[0m 1ms/step\n"
          ]
        }
      ]
    },
    {
      "cell_type": "code",
      "source": [
        "rmse_val1 = np.sqrt(mse_val1)\n",
        "\n",
        "print(\"ResNet Evaluation Metrics\")\n",
        "print(f\"ResNet R2 Score: {r2_val1:.3f}\")\n",
        "print(f\"ResNet MSE: {mse_val1:.3f}\")\n",
        "print(f\"ResNet MAE: {mae_val1:.3f}\")\n",
        "print(f\"ResNet RMSE: {rmse_val1:.3f}\")"
      ],
      "metadata": {
        "id": "QApeJIVDoJBm",
        "outputId": "15fa2ea4-1b4f-4cc9-e242-6aa826df83ed",
        "colab": {
          "base_uri": "https://localhost:8080/"
        }
      },
      "id": "QApeJIVDoJBm",
      "execution_count": 156,
      "outputs": [
        {
          "output_type": "stream",
          "name": "stdout",
          "text": [
            "ResNet Evaluation Metrics\n",
            "ResNet R2 Score: 0.528\n",
            "ResNet MSE: 66.645\n",
            "ResNet MAE: 2.530\n",
            "ResNet RMSE: 8.164\n"
          ]
        }
      ]
    },
    {
      "cell_type": "markdown",
      "source": [
        "### v). Hybrid Model (Random Forest + Extra Trees)"
      ],
      "metadata": {
        "id": "Su7FQ3AHpyiq"
      },
      "id": "Su7FQ3AHpyiq"
    },
    {
      "cell_type": "code",
      "source": [
        "import numpy as np\n",
        "from sklearn.ensemble import ExtraTreesRegressor, RandomForestRegressor\n",
        "from sklearn.metrics import r2_score, mean_squared_error, mean_absolute_error\n",
        "from sklearn.model_selection import train_test_split\n",
        "from sklearn.preprocessing import StandardScaler\n",
        "\n",
        "# For demonstration, let's pretend we're splitting the data again for training and validation\n",
        "X_train, X_val, y_train, y_val = train_test_split(X_train, y_train, test_size=0.2, random_state=42)\n",
        "\n",
        "# Scaling the data\n",
        "scaler = StandardScaler()\n",
        "X_train_scaled = scaler.fit_transform(X_train)\n",
        "X_val_scaled = scaler.transform(X_val)\n",
        "\n",
        "# Initialize the models\n",
        "extra_trees = ExtraTreesRegressor(n_estimators=100, random_state=42)\n",
        "random_forest = RandomForestRegressor(n_estimators=100, random_state=42)\n",
        "\n",
        "# Train the models\n",
        "extra_trees.fit(X_train_scaled, y_train)\n",
        "random_forest.fit(X_train_scaled, y_train)\n",
        "\n",
        "# Predict on the validation data\n",
        "y_pred_extra_trees = extra_trees.predict(X_val_scaled)\n",
        "y_pred_random_forest = random_forest.predict(X_val_scaled)\n",
        "\n",
        "# Combine predictions (average them)\n",
        "y_pred_hybrid = (y_pred_extra_trees + y_pred_random_forest) / 2\n",
        "\n",
        "# Calculate metrics for the hybrid model\n",
        "r2_va = r2_score(y_val, y_pred_hybrid)\n",
        "mse_va = mean_squared_error(y_val, y_pred_hybrid)\n",
        "mae_va = mean_absolute_error(y_val, y_pred_hybrid)"
      ],
      "metadata": {
        "id": "twIgmdkIp1kL"
      },
      "id": "twIgmdkIp1kL",
      "execution_count": 159,
      "outputs": []
    },
    {
      "cell_type": "code",
      "source": [
        "# Calculate RMSE\n",
        "rmse_va = np.sqrt(mse_va)\n",
        "\n",
        "# Print the evaluation metrics\n",
        "print(\"Hybrid Model Evaluation Metrics\")\n",
        "print(f\"Hybrid Model R2 Score: {r2_va:.3f}\")\n",
        "print(f\"Hybrid Model MSE: {mse_va:.3f}\")\n",
        "print(f\"Hybrid Model MAE: {mae_va:.3f}\")\n",
        "print(f\"Hybrid Model RMSE: {rmse_va:.3f}\")"
      ],
      "metadata": {
        "id": "ji1CextyqeMc",
        "outputId": "6d2f945d-b68e-4c0d-dea6-c01d72e9e031",
        "colab": {
          "base_uri": "https://localhost:8080/"
        }
      },
      "id": "ji1CextyqeMc",
      "execution_count": 160,
      "outputs": [
        {
          "output_type": "stream",
          "name": "stdout",
          "text": [
            "Hybrid Model Evaluation Metrics\n",
            "Hybrid Model R2 Score: 0.917\n",
            "Hybrid Model MSE: 11.867\n",
            "Hybrid Model MAE: 0.503\n",
            "Hybrid Model RMSE: 3.445\n"
          ]
        }
      ]
    },
    {
      "cell_type": "markdown",
      "source": [
        "### vi). Total flow duration R2 Score Comparison of Models"
      ],
      "metadata": {
        "id": "IbCRE3jEsXrw"
      },
      "id": "IbCRE3jEsXrw"
    },
    {
      "cell_type": "code",
      "source": [
        "# Model names and R2 scores\n",
        "models = ['Random Forest', 'Hybrid Model', 'Extra Trees', 'KNN', 'ResNet50']\n",
        "r2_scores = [r2_rf1, r2_va, r2_et1, r2_knn1, r2_val1]\n",
        "\n",
        "# Calculate positions for the bars\n",
        "x = np.arange(len(models))\n",
        "width = 0.35  # Width of the bars\n",
        "\n",
        "# Different colors for each bar\n",
        "colors = ['#1f77b4', '#ff7f0e', '#2ca02c', '#d62728', '#9467bd']\n",
        "\n",
        "fig, ax = plt.subplots(figsize=(10, 5))\n",
        "rects = ax.bar(x, r2_scores, width, color=colors, label='R2')\n",
        "\n",
        "# Labeling and aesthetics\n",
        "ax.set_ylabel('R2 Scores')\n",
        "ax.set_title('Total Flow Duration R2 Score Comparison of Models')\n",
        "ax.set_xticks(x)\n",
        "ax.set_xticklabels(models, rotation=45)\n",
        "ax.legend()\n",
        "\n",
        "# Adding individual R2 score values on top of each bar\n",
        "for rect, r2 in zip(rects, r2_scores):\n",
        "    height = rect.get_height()\n",
        "    ax.annotate(f'{r2:.3f}',  # Format the value to three decimal places\n",
        "                xy=(rect.get_x() + rect.get_width() / 2, height),\n",
        "                xytext=(0, 3),  # 3 points vertical offset\n",
        "                textcoords=\"offset points\",\n",
        "                ha='center', va='bottom')\n",
        "\n",
        "plt.show()\n"
      ],
      "metadata": {
        "id": "TL5pwS7Fq9Ey",
        "outputId": "0fed5aa3-ae76-42f5-dc3e-bd65352a4fd3",
        "colab": {
          "base_uri": "https://localhost:8080/",
          "height": 537
        }
      },
      "id": "TL5pwS7Fq9Ey",
      "execution_count": 162,
      "outputs": [
        {
          "output_type": "display_data",
          "data": {
            "text/plain": [
              "<Figure size 1000x500 with 1 Axes>"
            ],
            "image/png": "[encoded data removed]"
          },
          "metadata": {}
        }
      ]
    },
    {
      "cell_type": "markdown",
      "source": [
        "## 2. Total Packet Count Prediction"
      ],
      "metadata": {
        "id": "l8F7lLQY9vYK"
      },
      "id": "l8F7lLQY9vYK"
    },
    {
      "cell_type": "markdown",
      "id": "d4dd895f",
      "metadata": {
        "id": "d4dd895f"
      },
      "source": [
        "### Spliting data into training and testing sets"
      ]
    },
    {
      "cell_type": "code",
      "source": [
        "import pandas as pd\n",
        "from sklearn.model_selection import train_test_split\n",
        "from sklearn.preprocessing import StandardScaler\n",
        "\n",
        "\n",
        "# create a 'total_packet_count' column\n",
        "data['total_packet_count'] = data['src_pkts'] + data['dst_pkts']\n",
        "\n",
        "# Features and Target\n",
        "X = data[['src_pkts', 'src_ip_bytes', 'dst_pkts']]\n",
        "y = data['total_packet_count']\n",
        "\n",
        "# Splitting the dataset into train and test sets\n",
        "X_train, X_test, y_train, y_test = train_test_split(X, y, test_size=0.2, random_state=42)\n",
        "\n",
        "# Standardizing the features\n",
        "scaler = StandardScaler()\n",
        "X_train_scaled = scaler.fit_transform(X_train)\n",
        "X_test_scaled = scaler.transform(X_test)"
      ],
      "metadata": {
        "id": "XjQZdbrI153t"
      },
      "id": "XjQZdbrI153t",
      "execution_count": 165,
      "outputs": []
    },
    {
      "cell_type": "markdown",
      "id": "557f2b32",
      "metadata": {
        "id": "557f2b32"
      },
      "source": [
        "### i). KNeighborsRegressor"
      ]
    },
    {
      "cell_type": "code",
      "execution_count": 166,
      "id": "58bc07d5",
      "metadata": {
        "colab": {
          "base_uri": "https://localhost:8080/"
        },
        "id": "58bc07d5",
        "outputId": "61d69291-6cfe-4aef-91c0-f548d1699d9d"
      },
      "outputs": [
        {
          "output_type": "stream",
          "name": "stderr",
          "text": [
            "/usr/local/lib/python3.10/dist-packages/sklearn/base.py:458: UserWarning: X has feature names, but KNeighborsRegressor was fitted without feature names\n",
            "  warnings.warn(\n"
          ]
        }
      ],
      "source": [
        "from sklearn.neighbors import KNeighborsRegressor\n",
        "from sklearn.metrics import mean_squared_error, mean_absolute_error, r2_score\n",
        "import numpy as np\n",
        "# Initialize and train the KNN model\n",
        "knn_reg = KNeighborsRegressor(n_neighbors=5)\n",
        "knn_reg.fit(X_train_scaled, y_train)\n",
        "y_pred_knn = knn_reg.predict(X_test)\n",
        "\n",
        "# Evaluation metrics\n",
        "mse_knn = mean_squared_error(y_test, y_pred_knn)\n",
        "mae_knn = mean_absolute_error(y_test, y_pred_knn)\n",
        "rmse_knn = np.sqrt(mse_knn)\n",
        "r2_knn = r2_score(y_test, y_pred_knn)"
      ]
    },
    {
      "cell_type": "code",
      "execution_count": 167,
      "id": "e5892a6f",
      "metadata": {
        "colab": {
          "base_uri": "https://localhost:8080/"
        },
        "id": "e5892a6f",
        "outputId": "b5fc1fd2-f30b-408f-c5a9-f5325070b139"
      },
      "outputs": [
        {
          "output_type": "stream",
          "name": "stdout",
          "text": [
            "KNN Regression Evaluation Metrics:\n",
            "R-squared (R2): 0.958\n",
            "Mean Squared Error (MSE): 0.041\n",
            "Root Mean Squared Error (RMSE): 0.201\n",
            "Mean Absolute Error (MAE): 0.020\n"
          ]
        }
      ],
      "source": [
        "# Print each metric in steps\n",
        "print(\"KNN Regression Evaluation Metrics:\")\n",
        "print(\"R-squared (R2):\", format(r2_knn, \".3f\"))\n",
        "print(\"Mean Squared Error (MSE):\", format(mse_knn, \".3f\"))\n",
        "print(\"Root Mean Squared Error (RMSE):\", format(rmse_knn, \".3f\"))\n",
        "print(\"Mean Absolute Error (MAE):\", format(mae_knn, \".3f\"))"
      ]
    },
    {
      "cell_type": "markdown",
      "id": "bc65cd22",
      "metadata": {
        "id": "bc65cd22"
      },
      "source": [
        "### ii). RandomForestRegressor"
      ]
    },
    {
      "cell_type": "code",
      "execution_count": 169,
      "id": "cf9d74b6",
      "metadata": {
        "colab": {
          "base_uri": "https://localhost:8080/"
        },
        "id": "cf9d74b6",
        "outputId": "7b3bb847-9649-4071-d34d-1f17985298a9"
      },
      "outputs": [
        {
          "output_type": "stream",
          "name": "stderr",
          "text": [
            "/usr/local/lib/python3.10/dist-packages/sklearn/base.py:458: UserWarning: X has feature names, but RandomForestRegressor was fitted without feature names\n",
            "  warnings.warn(\n"
          ]
        }
      ],
      "source": [
        "from sklearn.ensemble import RandomForestRegressor\n",
        "from sklearn.metrics import mean_squared_error, mean_absolute_error, r2_score\n",
        "import numpy as np\n",
        "\n",
        "# Initialize and train the Random Forest model\n",
        "rf_reg = RandomForestRegressor(n_estimators=100, random_state=42)  # Default settings\n",
        "rf_reg.fit(X_train_scaled, y_train)\n",
        "y_pred_rf = rf_reg.predict(X_test)\n",
        "\n",
        "# Evaluation metrics\n",
        "mse_rf = mean_squared_error(y_test, y_pred_rf)\n",
        "mae_rf = mean_absolute_error(y_test, y_pred_rf)\n",
        "rmse_rf = np.sqrt(mse_rf)\n",
        "r2_rf = r2_score(y_test, y_pred_rf)"
      ]
    },
    {
      "cell_type": "code",
      "execution_count": 170,
      "id": "c6723c53",
      "metadata": {
        "colab": {
          "base_uri": "https://localhost:8080/"
        },
        "id": "c6723c53",
        "outputId": "407874d9-d331-43ce-d93a-e03d443d06dd"
      },
      "outputs": [
        {
          "output_type": "stream",
          "name": "stdout",
          "text": [
            "Random Forest Evaluation Metrics:\n",
            "R-squared (R2): 0.818\n",
            "Mean Squared Error (MSE): 0.173\n",
            "Root Mean Squared Error (RMSE): 0.416\n",
            "Mean Absolute Error (MAE): 0.020\n"
          ]
        }
      ],
      "source": [
        "# Print each metric in steps\n",
        "print(\"Random Forest Evaluation Metrics:\")\n",
        "print(\"R-squared (R2):\", format(r2_rf, \".3f\"))\n",
        "print(\"Mean Squared Error (MSE):\", format(mse_rf, \".3f\"))\n",
        "print(\"Root Mean Squared Error (RMSE):\", format(rmse_rf, \".3f\"))\n",
        "print(\"Mean Absolute Error (MAE):\", format(mae_rf, \".3f\"))"
      ]
    },
    {
      "cell_type": "markdown",
      "id": "a0275a11",
      "metadata": {
        "id": "a0275a11"
      },
      "source": [
        "### iii). ExtraTreesRegressor"
      ]
    },
    {
      "cell_type": "code",
      "execution_count": 172,
      "id": "8332be88",
      "metadata": {
        "colab": {
          "base_uri": "https://localhost:8080/"
        },
        "id": "8332be88",
        "outputId": "d96baf15-2c75-4131-c307-1508e59ced09"
      },
      "outputs": [
        {
          "output_type": "stream",
          "name": "stderr",
          "text": [
            "/usr/local/lib/python3.10/dist-packages/sklearn/base.py:458: UserWarning: X has feature names, but ExtraTreesRegressor was fitted without feature names\n",
            "  warnings.warn(\n"
          ]
        }
      ],
      "source": [
        "from sklearn.ensemble import ExtraTreesRegressor\n",
        "from sklearn.metrics import mean_squared_error, mean_absolute_error, r2_score\n",
        "import numpy as np\n",
        "# Initialize and train the Extra Trees model\n",
        "et_reg = ExtraTreesRegressor(n_estimators=100, random_state=42)\n",
        "et_reg.fit(X_train_scaled, y_train)\n",
        "y_pred_et = et_reg.predict(X_test)\n",
        "\n",
        "# Evaluation metrics\n",
        "mse_et = mean_squared_error(y_test, y_pred_et)\n",
        "mae_et = mean_absolute_error(y_test, y_pred_et)\n",
        "rmse_et = np.sqrt(mse_et)\n",
        "r2_et = r2_score(y_test, y_pred_et)"
      ]
    },
    {
      "cell_type": "code",
      "execution_count": 173,
      "id": "26995e29",
      "metadata": {
        "colab": {
          "base_uri": "https://localhost:8080/"
        },
        "id": "26995e29",
        "outputId": "47382ca8-3ea5-4f1e-d37a-4830d4891b43"
      },
      "outputs": [
        {
          "output_type": "stream",
          "name": "stdout",
          "text": [
            "ExtraTreesRegressor Evaluation Metrics:\n",
            "R-squared (R2): 0.996\n",
            "Mean Squared Error (MSE): 0.004\n",
            "Root Mean Squared Error (RMSE): 0.064\n",
            "Mean Absolute Error (MAE): 0.015\n"
          ]
        }
      ],
      "source": [
        "# Print each metric in steps\n",
        "print(\"ExtraTreesRegressor Evaluation Metrics:\")\n",
        "print(\"R-squared (R2):\", format(r2_et, \".3f\"))\n",
        "print(\"Mean Squared Error (MSE):\", format(mse_et, \".3f\"))\n",
        "print(\"Root Mean Squared Error (RMSE):\", format(rmse_et, \".3f\"))\n",
        "print(\"Mean Absolute Error (MAE):\", format(mae_et, \".3f\"))"
      ]
    },
    {
      "cell_type": "markdown",
      "source": [
        "### iv). ResNet"
      ],
      "metadata": {
        "id": "8VHSjGmfgzWk"
      },
      "id": "8VHSjGmfgzWk"
    },
    {
      "cell_type": "code",
      "source": [
        "import tensorflow as tf\n",
        "from tensorflow.keras.models import Sequential\n",
        "from tensorflow.keras.layers import Dense, Dropout\n",
        "from sklearn.metrics import r2_score, mean_squared_error, mean_absolute_error\n",
        "\n",
        "# Define the model\n",
        "model = Sequential([\n",
        "    Dense(128, activation='relu', input_dim=X_train.shape[1]),\n",
        "    Dropout(0.2),\n",
        "    Dense(64, activation='relu'),\n",
        "    Dense(1)  # Output layer for regression\n",
        "])\n",
        "\n",
        "# Compile the model\n",
        "model.compile(optimizer='adam', loss='mse', metrics=['mae'])\n",
        "\n",
        "# Train the model and include validation split\n",
        "history = model.fit(X_train_scaled, y_train, epochs=10, batch_size=32, validation_split=0.2, verbose=1)\n",
        "\n",
        "# Predict on training and validation data\n",
        "y_pred_train = model.predict(X_train_scaled)\n",
        "y_pred_val = model.predict(X_train_scaled[-int(len(X_train_scaled) * 0.2):])  # Assuming last 20% is validation\n",
        "\n",
        "# Calculate R2 scores\n",
        "r2_train = r2_score(y_train, y_pred_train)\n",
        "resnet_r2_val = r2_score(y_train[-int(len(y_train) * 0.2):], y_pred_val)\n",
        "\n",
        "# Calculate MSE and MAE\n",
        "mse_train = mean_squared_error(y_train, y_pred_train)\n",
        "mae_train = mean_absolute_error(y_train, y_pred_train)\n",
        "mse_val = mean_squared_error(y_train[-int(len(y_train) * 0.2):], y_pred_val)\n",
        "mae_val = mean_absolute_error(y_train[-int(len(y_train) * 0.2):], y_pred_val)"
      ],
      "metadata": {
        "colab": {
          "base_uri": "https://localhost:8080/"
        },
        "id": "WUdevI0dPGkN",
        "outputId": "4333bcc5-93a9-4524-9b0f-cb29bacc0b62"
      },
      "id": "WUdevI0dPGkN",
      "execution_count": 175,
      "outputs": [
        {
          "output_type": "stream",
          "name": "stdout",
          "text": [
            "Epoch 1/10\n"
          ]
        },
        {
          "output_type": "stream",
          "name": "stderr",
          "text": [
            "/usr/local/lib/python3.10/dist-packages/keras/src/layers/core/dense.py:87: UserWarning: Do not pass an `input_shape`/`input_dim` argument to a layer. When using Sequential models, prefer using an `Input(shape)` object as the first layer in the model instead.\n",
            "  super().__init__(activity_regularizer=activity_regularizer, **kwargs)\n"
          ]
        },
        {
          "output_type": "stream",
          "name": "stdout",
          "text": [
            "\u001b[1m2979/2979\u001b[0m \u001b[32m━━━━━━━━━━━━━━━━━━━━\u001b[0m\u001b[37m\u001b[0m \u001b[1m10s\u001b[0m 3ms/step - loss: 0.1583 - mae: 0.0501 - val_loss: 0.0155 - val_mae: 0.0166\n",
            "Epoch 2/10\n",
            "\u001b[1m2979/2979\u001b[0m \u001b[32m━━━━━━━━━━━━━━━━━━━━\u001b[0m\u001b[37m\u001b[0m \u001b[1m6s\u001b[0m 2ms/step - loss: 0.5152 - mae: 0.0536 - val_loss: 0.5003 - val_mae: 0.0243\n",
            "Epoch 3/10\n",
            "\u001b[1m2979/2979\u001b[0m \u001b[32m━━━━━━━━━━━━━━━━━━━━\u001b[0m\u001b[37m\u001b[0m \u001b[1m7s\u001b[0m 2ms/step - loss: 4.4624 - mae: 0.0581 - val_loss: 0.0041 - val_mae: 0.0130\n",
            "Epoch 4/10\n",
            "\u001b[1m2979/2979\u001b[0m \u001b[32m━━━━━━━━━━━━━━━━━━━━\u001b[0m\u001b[37m\u001b[0m \u001b[1m10s\u001b[0m 2ms/step - loss: 0.1003 - mae: 0.0377 - val_loss: 0.4617 - val_mae: 0.1038\n",
            "Epoch 5/10\n",
            "\u001b[1m2979/2979\u001b[0m \u001b[32m━━━━━━━━━━━━━━━━━━━━\u001b[0m\u001b[37m\u001b[0m \u001b[1m7s\u001b[0m 2ms/step - loss: 0.3619 - mae: 0.0527 - val_loss: 0.2342 - val_mae: 0.1282\n",
            "Epoch 6/10\n",
            "\u001b[1m2979/2979\u001b[0m \u001b[32m━━━━━━━━━━━━━━━━━━━━\u001b[0m\u001b[37m\u001b[0m \u001b[1m11s\u001b[0m 3ms/step - loss: 1.6315 - mae: 0.0453 - val_loss: 0.0366 - val_mae: 0.1597\n",
            "Epoch 7/10\n",
            "\u001b[1m2979/2979\u001b[0m \u001b[32m━━━━━━━━━━━━━━━━━━━━\u001b[0m\u001b[37m\u001b[0m \u001b[1m8s\u001b[0m 2ms/step - loss: 0.2890 - mae: 0.0387 - val_loss: 0.0604 - val_mae: 0.1670\n",
            "Epoch 8/10\n",
            "\u001b[1m2979/2979\u001b[0m \u001b[32m━━━━━━━━━━━━━━━━━━━━\u001b[0m\u001b[37m\u001b[0m \u001b[1m7s\u001b[0m 2ms/step - loss: 0.1754 - mae: 0.0255 - val_loss: 0.1036 - val_mae: 0.1683\n",
            "Epoch 9/10\n",
            "\u001b[1m2979/2979\u001b[0m \u001b[32m━━━━━━━━━━━━━━━━━━━━\u001b[0m\u001b[37m\u001b[0m \u001b[1m10s\u001b[0m 2ms/step - loss: 0.2794 - mae: 0.0280 - val_loss: 0.4940 - val_mae: 0.2079\n",
            "Epoch 10/10\n",
            "\u001b[1m2979/2979\u001b[0m \u001b[32m━━━━━━━━━━━━━━━━━━━━\u001b[0m\u001b[37m\u001b[0m \u001b[1m9s\u001b[0m 2ms/step - loss: 0.4091 - mae: 0.0325 - val_loss: 0.2310 - val_mae: 0.1698\n",
            "\u001b[1m3723/3723\u001b[0m \u001b[32m━━━━━━━━━━━━━━━━━━━━\u001b[0m\u001b[37m\u001b[0m \u001b[1m5s\u001b[0m 1ms/step\n",
            "\u001b[1m745/745\u001b[0m \u001b[32m━━━━━━━━━━━━━━━━━━━━\u001b[0m\u001b[37m\u001b[0m \u001b[1m1s\u001b[0m 1ms/step\n"
          ]
        }
      ]
    },
    {
      "cell_type": "code",
      "source": [
        "# Calculate RMSE if not already done\n",
        "rmse_val = np.sqrt(mse_val)\n",
        "\n",
        "# Print the evaluation metrics\n",
        "print(\"ResNet Evaluation Metrics\")\n",
        "print(f\"R2 Score: {resnet_r2_val:.3f}\")\n",
        "print(f\"MSE: {mse_val:.3f}\")\n",
        "print(f\"MAE: {mae_val:.3f}\")\n",
        "print(f\"RMSE: {rmse_val:.3f}\")"
      ],
      "metadata": {
        "id": "bmQntQqKTLRt",
        "outputId": "57a72951-4286-4b78-dd55-4520051e5b0f",
        "colab": {
          "base_uri": "https://localhost:8080/"
        }
      },
      "id": "bmQntQqKTLRt",
      "execution_count": 176,
      "outputs": [
        {
          "output_type": "stream",
          "name": "stdout",
          "text": [
            "ResNet Evaluation Metrics\n",
            "R2 Score: 0.864\n",
            "MSE: 0.231\n",
            "MAE: 0.170\n",
            "RMSE: 0.481\n"
          ]
        }
      ]
    },
    {
      "cell_type": "markdown",
      "source": [
        "### v).Hybrid Model (Random Forest + Extra Trees)"
      ],
      "metadata": {
        "id": "m9bLrD7Ag9I5"
      },
      "id": "m9bLrD7Ag9I5"
    },
    {
      "cell_type": "code",
      "source": [
        "import numpy as np\n",
        "from sklearn.ensemble import ExtraTreesRegressor, RandomForestRegressor\n",
        "from sklearn.metrics import r2_score, mean_squared_error, mean_absolute_error\n",
        "from sklearn.model_selection import train_test_split\n",
        "from sklearn.preprocessing import StandardScaler\n",
        "\n",
        "# For demonstration, let's pretend we're splitting the data again for training and validation\n",
        "X_train, X_val, y_train, y_val = train_test_split(X_train, y_train, test_size=0.2, random_state=42)\n",
        "\n",
        "# Scaling the data\n",
        "scaler = StandardScaler()\n",
        "X_train_scaled = scaler.fit_transform(X_train)\n",
        "X_val_scaled = scaler.transform(X_val)\n",
        "\n",
        "# Initialize the models\n",
        "extra_trees = ExtraTreesRegressor(n_estimators=100, random_state=42)\n",
        "random_forest = RandomForestRegressor(n_estimators=100, random_state=42)\n",
        "\n",
        "# Train the models\n",
        "extra_trees.fit(X_train_scaled, y_train)\n",
        "random_forest.fit(X_train_scaled, y_train)\n",
        "\n",
        "# Predict on the validation data\n",
        "y_pred_extra_trees = extra_trees.predict(X_val_scaled)\n",
        "y_pred_random_forest = random_forest.predict(X_val_scaled)\n",
        "\n",
        "# Combine predictions (average them)\n",
        "y_pred_hybrid = (y_pred_extra_trees + y_pred_random_forest) / 2\n",
        "\n",
        "# Calculate metrics for the hybrid model\n",
        "r2_val = r2_score(y_val, y_pred_hybrid)\n",
        "mse_val = mean_squared_error(y_val, y_pred_hybrid)\n",
        "mae_val = mean_absolute_error(y_val, y_pred_hybrid)"
      ],
      "metadata": {
        "id": "20BQxyJCTLZE"
      },
      "id": "20BQxyJCTLZE",
      "execution_count": 178,
      "outputs": []
    },
    {
      "cell_type": "code",
      "source": [
        "# Calculate RMSE if not already done\n",
        "rmse_val = np.sqrt(mse_val)\n",
        "\n",
        "# Print the evaluation metrics\n",
        "print(\"Hybrid Model Evaluation Metrics\")\n",
        "print(f\"R2 Score: {r2_val:.3f}\")\n",
        "print(f\"MSE: {mse_val:.3f}\")\n",
        "print(f\"MAE: {mae_val:.3f}\")\n",
        "print(f\"RMSE: {rmse_val:.3f}\")"
      ],
      "metadata": {
        "colab": {
          "base_uri": "https://localhost:8080/"
        },
        "id": "nZtE1Tb-C5l1",
        "outputId": "f6869d2c-d365-46d1-a744-56f665b0bb8b"
      },
      "id": "nZtE1Tb-C5l1",
      "execution_count": 179,
      "outputs": [
        {
          "output_type": "stream",
          "name": "stdout",
          "text": [
            "Hybrid Model Evaluation Metrics\n",
            "R2 Score: 0.997\n",
            "MSE: 0.006\n",
            "MAE: 0.001\n",
            "RMSE: 0.075\n"
          ]
        }
      ]
    },
    {
      "cell_type": "markdown",
      "id": "38c24ded",
      "metadata": {
        "id": "38c24ded"
      },
      "source": [
        "### vi). Models R2 Comparison for Total Packet Count"
      ]
    },
    {
      "cell_type": "code",
      "execution_count": 181,
      "id": "3d4b3aff",
      "metadata": {
        "colab": {
          "base_uri": "https://localhost:8080/",
          "height": 537
        },
        "id": "3d4b3aff",
        "outputId": "0bde0ef4-b41e-453c-94ba-77f6cc58fbb3"
      },
      "outputs": [
        {
          "output_type": "display_data",
          "data": {
            "text/plain": [
              "<Figure size 1000x500 with 1 Axes>"
            ],
            "image/png": "[encoded data removed]"
          },
          "metadata": {}
        }
      ],
      "source": [
        "import numpy as np\n",
        "import matplotlib.pyplot as plt\n",
        "\n",
        "# Model names and R2 scores\n",
        "models = ['Random Forest', 'Hybrid Model', 'Extra Trees', 'KNN', 'ResNet50']\n",
        "r2_scores = [r2_rf, r2_val, r2_et, r2_knn, resnet_r2_val]  # Updated R2 scores list\n",
        "\n",
        "# Calculate positions for the bars\n",
        "x = np.arange(len(models))\n",
        "width = 0.35  # Width of the bars\n",
        "\n",
        "# Different colors for each bar\n",
        "colors = ['#1f77b4', '#ff7f0e', '#2ca02c', '#d62728', '#9467bd']\n",
        "\n",
        "fig, ax = plt.subplots(figsize=(10, 5))\n",
        "rects = ax.bar(x, r2_scores, width, color=colors, label='R2')\n",
        "\n",
        "# Labeling and aesthetics\n",
        "ax.set_ylabel('R2 Scores')\n",
        "ax.set_title('R2 Score Comparison of Models')\n",
        "ax.set_xticks(x)\n",
        "ax.set_xticklabels(models, rotation=45)\n",
        "ax.legend()\n",
        "\n",
        "# Adding individual R2 score values on top of each bar\n",
        "for rect, r2 in zip(rects, r2_scores):\n",
        "    height = rect.get_height()\n",
        "    ax.annotate(f'{r2:.3f}',  # Format the value to three decimal places\n",
        "                xy=(rect.get_x() + rect.get_width() / 2, height),\n",
        "                xytext=(0, 3),  # 3 points vertical offset\n",
        "                textcoords=\"offset points\",\n",
        "                ha='center', va='bottom')\n",
        "\n",
        "plt.show()\n"
      ]
    },
    {
      "cell_type": "code",
      "source": [],
      "metadata": {
        "id": "PcTn0BwjPK3j"
      },
      "id": "PcTn0BwjPK3j",
      "execution_count": null,
      "outputs": []
    }
  ],
  "metadata": {
    "kernelspec": {
      "display_name": "Python 3 (ipykernel)",
      "language": "python",
      "name": "python3"
    },
    "language_info": {
      "codemirror_mode": {
        "name": "ipython",
        "version": 3
      },
      "file_extension": ".py",
      "mimetype": "text/x-python",
      "name": "python",
      "nbconvert_exporter": "python",
      "pygments_lexer": "ipython3",
      "version": "3.9.12"
    },
    "colab": {
      "provenance": []
    }
  },
  "nbformat": 4,
  "nbformat_minor": 5
}